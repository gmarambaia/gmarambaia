{
  "nbformat": 4,
  "nbformat_minor": 0,
  "metadata": {
    "colab": {
      "provenance": [],
      "toc_visible": true,
      "authorship_tag": "ABX9TyO11LsCzGbd7Crrq4Jz/SWk",
      "include_colab_link": true
    },
    "kernelspec": {
      "name": "python3",
      "display_name": "Python 3"
    },
    "language_info": {
      "name": "python"
    }
  },
  "cells": [
    {
      "cell_type": "markdown",
      "metadata": {
        "id": "view-in-github",
        "colab_type": "text"
      },
      "source": [
        "<a href=\"https://colab.research.google.com/github/gmarambaia/gmarambaia/blob/main/Understanding_Distributions_Through_Sampling.ipynb\" target=\"_parent\"><img src=\"https://colab.research.google.com/assets/colab-badge.svg\" alt=\"Open In Colab\"/></a>"
      ]
    },
    {
      "cell_type": "code",
      "execution_count": null,
      "metadata": {
        "id": "ejCiD1iLPbBh"
      },
      "outputs": [],
      "source": [
        "%matplotlib inline"
      ]
    },
    {
      "cell_type": "code",
      "source": [
        "#We can bring in some other libraries we will need too, including the matplotlib animation module\n",
        "import matplotlib.animation as animation\n",
        "import matplotlib.pyplot as plt\n",
        "import numpy as np\n",
        "import pandas as pd"
      ],
      "metadata": {
        "id": "W1EVu-UQPmBD"
      },
      "execution_count": null,
      "outputs": []
    },
    {
      "cell_type": "code",
      "source": [
        "# generate 4 random variables from the random, gamma, exponential, and uniform distributions\n",
        "x1 = np.random.normal(-2.5, 1, 10000)\n",
        "x2 = np.random.gamma(2, 1.5, 10000)\n",
        "x3 = np.random.exponential(2, 10000)+7\n",
        "x4 = np.random.uniform(14,20, 10000)\n",
        "\n",
        "# plot the histograms\n",
        "plt.figure(figsize=(9,3))\n",
        "plt.hist(x1, density=True, bins=20, alpha=0.5)\n",
        "plt.hist(x2, density=True, bins=20, alpha=0.5)\n",
        "plt.hist(x3, density=True, bins=20, alpha=0.5)\n",
        "plt.hist(x4, density=True, bins=20, alpha=0.5);\n",
        "plt.axis([-7,21,0,0.6])\n",
        "\n",
        "plt.text(x1.mean()-1.5, 0.5, 'x1\\nNormal')\n",
        "plt.text(x2.mean()-1.5, 0.5, 'x2\\nGamma')\n",
        "plt.text(x3.mean()-1.5, 0.5, 'x3\\nExponential')\n",
        "plt.text(x4.mean()-1.5, 0.5, 'x4\\nUniform');"
      ],
      "metadata": {
        "colab": {
          "base_uri": "https://localhost:8080/",
          "height": 215
        },
        "id": "3m4wjTGbTGtJ",
        "outputId": "b89a5e77-1890-4229-c536-e0132222e516"
      },
      "execution_count": null,
      "outputs": [
        {
          "output_type": "display_data",
          "data": {
            "text/plain": [
              "<Figure size 648x216 with 1 Axes>"
            ],
            "image/png": "[encoded data removed]"
          },
          "metadata": {
            "needs_background": "light"
          }
        }
      ]
    },
    {
      "cell_type": "code",
      "source": [
        "pip install ipympl"
      ],
      "metadata": {
        "id": "WKfSpVNPVm1v"
      },
      "execution_count": null,
      "outputs": []
    },
    {
      "cell_type": "code",
      "source": [
        "%matplotlib widget\n",
        "import matplotlib.pyplot as plt"
      ],
      "metadata": {
        "id": "J6MbKrV4VlkX"
      },
      "execution_count": null,
      "outputs": []
    },
    {
      "cell_type": "code",
      "source": [
        "# generate 4 random variables from the random, gamma, exponential, and uniform distributions\n",
        "x1 = np.random.normal(-2.5, 1, 10000)\n",
        "x2 = np.random.gamma(2, 1.5, 10000)\n",
        "x3 = np.random.exponential(2, 10000)+7\n",
        "x4 = np.random.uniform(14,20, 10000)\n",
        "\n",
        "# plot the histograms\n",
        "plt.figure(figsize=(12,6))\n",
        "plt.hist(x1, density=True, bins=20, alpha=0.5)\n",
        "plt.hist(x2, density=True, bins=20, alpha=0.5)\n",
        "plt.hist(x3, density=True, bins=20, alpha=0.5)\n",
        "plt.hist(x4, density=True, bins=20, alpha=0.5);\n",
        "plt.axis([-7,21,0,0.6])\n",
        "\n",
        "plt.text(x1.mean()-1.5, 0.5, 'x1\\nNormal')\n",
        "plt.text(x2.mean()-1.5, 0.5, 'x2\\nGamma')\n",
        "plt.text(x3.mean()-1.5, 0.5, 'x3\\nExponential')\n",
        "plt.text(x4.mean()-1.5, 0.5, 'x4\\nUniform');"
      ],
      "metadata": {
        "colab": {
          "base_uri": "https://localhost:8080/",
          "height": 378
        },
        "id": "17cQZGaBVura",
        "outputId": "c0779db7-11a7-41e0-9059-94fca4582628"
      },
      "execution_count": null,
      "outputs": [
        {
          "output_type": "display_data",
          "data": {
            "text/plain": [
              "<Figure size 864x432 with 1 Axes>"
            ],
            "image/png": "[encoded data removed]"
          },
          "metadata": {
            "needs_background": "light"
          }
        }
      ]
    },
    {
      "cell_type": "code",
      "source": [
        "import matplotlib.pyplot as plt\n",
        "import numpy as np\n",
        "import matplotlib.animation as animation\n",
        "import matplotlib.gridspec as gridspec\n",
        "from matplotlib.widgets import Slider\n",
        "\n",
        "i_mult=100\n",
        "\n",
        "i_npar_size=1000*i_mult\n",
        "i_frames=21\n",
        "i_ani_step=50*i_mult\n",
        "\n",
        "n_bins=250\n",
        "\n",
        "cstrStart='Start animation'\n",
        "cstrStop='Stop animation'\n",
        "\n",
        "\n",
        "anime=None\n",
        "\n",
        "class cHist:\n",
        "    num_bins=200\n",
        "    font_size=10\n",
        "    \n",
        "    _ax=None \n",
        "    dt=None\n",
        "    color='black' \n",
        "    cap=''\n",
        "    alpha=0.5\n",
        "    \n",
        "    def __init__(self, data, draw_color='black', caption='', bins=n_bins, alfa=0.5, fontsize=10):\n",
        "        self.dt=data\n",
        "        self.color=draw_color\n",
        "        self.cap=caption\n",
        "        self.num_bins=bins\n",
        "        self.alpha=alfa\n",
        "        self.font_size=fontsize\n",
        "        \n",
        "    @property\n",
        "    def ax(self):\n",
        "        return self._ax\n",
        "    @ax.setter\n",
        "    def ax(self, value):\n",
        "        self._ax = value\n",
        "        \n",
        "    def set_ticks_font_size(self):\n",
        "        for label in (self._ax.get_xticklabels() + self._ax.get_yticklabels()):\n",
        "            #label.set_fontname('Arial')\n",
        "            label.set_fontsize(self.font_size-2)\n",
        "\n",
        "        \n",
        "    def write_text(self, strText, x=0.8, y=0.9, f_size=font_size):\n",
        "        self._ax.text(x, y, strText, fontsize=f_size, \n",
        "              transform=self._ax.transAxes, va='center', ha='center')\n",
        "            \n",
        "    def write_title(self):\n",
        "        self._ax.set_title(self.cap, fontsize=self.font_size, color=self.color)\n",
        "    \n",
        "    def init_draw(self):\n",
        "        self.write_title()\n",
        "    \n",
        "        self._ax.spines['top'].set_visible(False)\n",
        "        self._ax.spines['right'].set_visible(False)\n",
        "        self.set_ticks_font_size()\n",
        "        \n",
        "    def draw_hist(self, srez1=-1, srez0=0):\n",
        "        self._ax.hist(self.dt[srez0:srez1], bins=self.num_bins, \n",
        "                      alpha=self.alpha, facecolor=self.color)\n",
        "        self.init_draw()\n",
        "\n",
        "def init_draw(bDrawHist=False):\n",
        "    for x in tplAni:\n",
        "        if bDrawHist:\n",
        "            x.draw_hist()\n",
        "        x.init_draw()\n",
        "    plt.tight_layout()\n",
        "    \n",
        "def update(curr):\n",
        "    # check if animation is at the last frame, and if so, stop the animation a\n",
        "    global tplAni, i_frames, i_ani_step, init_draw, fig\n",
        "    #if curr >= i_frames: \n",
        "    #    anime.event_source.stop()\n",
        "    fig.suptitle('Animation n = {}'.format(curr*i_ani_step), fontsize=14, fontweight='bold')\n",
        "    \n",
        "    for x in tplAni:\n",
        "        x.ax.cla()\n",
        "        x.draw_hist(srez1=curr*i_ani_step)\n",
        "    #tplAni[-1].write_text(' ', y=0.05, x=0.95, f_size=7)\n",
        "    #tplAni[-1].write_text('n = {}'.format(curr*i_ani_step), y=0.05, x=0.95, f_size=7)\n",
        "    return tplAni        \n",
        "        \n",
        "x_norm=cHist(np.random.normal(-2.5, 1, i_npar_size), caption='x1\\nNormal', draw_color='blue')\n",
        "x_gamma=cHist(np.random.gamma(2, 1.5, i_npar_size), caption='x2\\nGamma', draw_color='green')\n",
        "x_exp=cHist(np.random.exponential(2, i_npar_size)+7, caption='x3\\nExponential', draw_color='indianred')\n",
        "x_uni=cHist(np.random.uniform(14,20, i_npar_size), caption='x4\\nUniform', draw_color='peru')\n",
        "\n",
        "# plot the histograms\n",
        "\n",
        "fig = plt.figure(figsize=(9, 7))\n",
        "fig.suptitle('Animation', fontsize=14, fontweight='bold')\n",
        "\n",
        "gs = gridspec.GridSpec(4, 2, height_ratios=[4.5, 0.5, 4.5, 0.5])\n",
        "x_norm.ax = fig.add_subplot(gs[0, 0])\n",
        "\n",
        "x_sp=fig.add_subplot(gs[1,0])\n",
        "\n",
        "x_sp.set_xlim(0, 2)\n",
        "xsp = Slider(x_sp, '$\\sigma$', 0, 2, valinit=1, color='blue')\n",
        "\n",
        "def x_sp_xhange(val):\n",
        "    x_norm.dt=np.random.normal(-2.5, xsp.val, i_npar_size)\n",
        "    x_norm.ax.cla()\n",
        "    x_norm.draw_hist()\n",
        "    \n",
        "xsp.on_changed(x_sp_xhange)    \n",
        "\n",
        "x_gamma.ax = fig.add_subplot(gs[0,1], sharey=x_norm.ax)\n",
        "\n",
        "x_sh=fig.add_subplot(gs[1,1])\n",
        "\n",
        "x_sh.set_xlim(0, 9)\n",
        "xsh = Slider(x_sh, 'S', 0, 9, valinit=2, color='green')\n",
        "\n",
        "def x_sh_xhange(val):\n",
        "    x_gamma.dt=np.random.gamma(val, 1.5, i_npar_size)\n",
        "    x_gamma.ax.cla()\n",
        "    x_gamma.draw_hist()\n",
        "\n",
        "xsh.on_changed(x_sh_xhange)\n",
        "\n",
        "x_exp.ax = fig.add_subplot(gs[2,0], sharey=x_norm.ax)\n",
        "x_uni.ax = fig.add_subplot(gs[2,1], sharey=x_norm.ax)\n",
        "#x_butt = fig.add_subplot(gs[2,:])\n",
        "\n",
        "tplAni=(x_norm, x_gamma, x_exp, x_uni)\n",
        "\n",
        "#plt.axis([-7,21,0,0.7])\n",
        "\n",
        "init_draw(bDrawHist=True)\n",
        "\n",
        "#anime = animation.FuncAnimation(fig, update, init_func=init_draw, interval=200, \n",
        "#                            blit=False, frames=i_frames, repeat=True)\n",
        "\n"
      ],
      "metadata": {
        "colab": {
          "base_uri": "https://localhost:8080/",
          "height": 477
        },
        "id": "XQxGqcf5WUZQ",
        "outputId": "7393123b-4b6b-4f2b-c795-0f62460b23de"
      },
      "execution_count": 1,
      "outputs": [
        {
          "output_type": "display_data",
          "data": {
            "text/plain": [
              "<Figure size 648x504 with 6 Axes>"
            ],
            "image/png": "[encoded data removed]"
          },
          "metadata": {
            "needs_background": "light"
          }
        }
      ]
    }
  ]
}