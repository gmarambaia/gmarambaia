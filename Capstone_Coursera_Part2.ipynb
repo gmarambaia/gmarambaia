{
  "nbformat": 4,
  "nbformat_minor": 0,
  "metadata": {
    "colab": {
      "name": "Capstone Coursera - Part2.ipynb",
      "provenance": [],
      "authorship_tag": "ABX9TyNFDd/JFkT3tsrqXHmHMmrR",
      "include_colab_link": true
    },
    "kernelspec": {
      "name": "python3",
      "display_name": "Python 3"
    },
    "language_info": {
      "name": "python"
    }
  },
  "cells": [
    {
      "cell_type": "markdown",
      "metadata": {
        "id": "view-in-github",
        "colab_type": "text"
      },
      "source": [
        "<a href=\"https://colab.research.google.com/github/gmarambaia/gmarambaia/blob/main/Capstone_Coursera_Part2.ipynb\" target=\"_parent\"><img src=\"https://colab.research.google.com/assets/colab-badge.svg\" alt=\"Open In Colab\"/></a>"
      ]
    },
    {
      "cell_type": "markdown",
      "source": [
        "Linear Regression Model<p>\n",
        "Regression Tree Model <p>\n",
        "Neural Network Model<p>\n",
        "\n",
        "Evaluation and selection of the Model"
      ],
      "metadata": {
        "id": "lwdYI5_m7t3a"
      }
    },
    {
      "cell_type": "code",
      "execution_count": null,
      "metadata": {
        "id": "SuJGM4Wz7tWT"
      },
      "outputs": [],
      "source": [
        ""
      ]
    }
  ]
}