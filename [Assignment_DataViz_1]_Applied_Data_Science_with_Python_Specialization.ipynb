{
  "cells": [
    {
      "cell_type": "markdown",
      "metadata": {
        "id": "view-in-github",
        "colab_type": "text"
      },
      "source": [
        "<a href=\"https://colab.research.google.com/github/gmarambaia/gmarambaia/blob/main/%5BAssignment_DataViz_1%5D_Applied_Data_Science_with_Python_Specialization.ipynb\" target=\"_parent\"><img src=\"https://colab.research.google.com/assets/colab-badge.svg\" alt=\"Open In Colab\"/></a>"
      ]
    },
    {
      "cell_type": "code",
      "execution_count": null,
      "metadata": {
        "deletable": false,
        "editable": false,
        "nbgrader": {
          "cell_type": "code",
          "checksum": "e45d05a7e6705e7bc18fff5d5890ef58",
          "grade": false,
          "grade_id": "cell-44ca835c70f3040a",
          "locked": true,
          "schema_version": 3,
          "solution": false,
          "task": false
        },
        "id": "FdlpV8dkZTte"
      },
      "outputs": [],
      "source": [
        "%%javascript\n",
        "IPython.OutputArea.prototype._should_scroll = function(lines) {\n",
        "    return false; // disable scroll bar when displaying Folium map\n",
        "}"
      ]
    },
    {
      "cell_type": "markdown",
      "metadata": {
        "deletable": false,
        "editable": false,
        "nbgrader": {
          "cell_type": "markdown",
          "checksum": "ae6111747a75bdb5c5393f44d1045577",
          "grade": false,
          "grade_id": "cell-c676d66924c74eea",
          "locked": true,
          "schema_version": 3,
          "solution": false,
          "task": false
        },
        "id": "KtLJ0X8bZTtg"
      },
      "source": [
        "# Assignment 2\n",
        "\n",
        "Before working on this assignment please read these instructions fully. In the submission area, you will notice that you can click the link to **Preview the Grading** for each step of the assignment. This is the criteria that will be used for peer grading. Please familiarize yourself with the criteria before beginning the assignment.\n",
        "\n",
        "The data for this assignment comes from a subset of The National Centers for Environmental Information (NCEI) [Global Historical Climatology Network daily (GHCNd)](https://www.ncei.noaa.gov/products/land-based-station/global-historical-climatology-network-daily) (GHCN-Daily). The GHCN-Daily is comprised of daily climate records from thousands of land surface stations across the globe - it's a wonderfully large dataset to play with! In particular, you will be asked to use data from the Ann Arbor Michigan location (my home!). and this is stored in the file: `assets/fb441e62df2d58994928907a91895ec62c2c42e6cd075c2700843b89.csv`\n",
        "\n",
        "Each row in this datafile corresponds to a single observation from a weather station, and has the following variables:\n",
        "* **id** : station identification code\n",
        "* **date** : date in YYYY-MM-DD format (e.g. 2012-01-24 = January 24, 2012)\n",
        "* **element** : indicator of element type\n",
        "    * TMAX : Maximum temperature (tenths of degrees C)\n",
        "    * TMIN : Minimum temperature (tenths of degrees C)\n",
        "* **value** : data value for element (tenths of degrees C)\n",
        "\n",
        "For this assignment, you must:\n",
        "\n",
        "1. Read the documentation and familiarize yourself with the dataset, then write a python notebook which plots line graphs of the record high and record low temperatures by day of the year over the period 2005-2014. The area between the record high and record low temperatures for each day should be shaded.\n",
        "2. Overlay a scatter of the 2015 data for any points (highs and lows) for which the ten year record (2005-2014) record high or record low was broken in 2015. (Based on the graph, do you think extreme weather is getting more frequent in 2015?)\n",
        "3. Watch out for leap days (i.e. February 29th), it is reasonable to remove these points from the dataset for the purpose of this visualization.\n",
        "4. Make the visual nice! Leverage principles from the first module in this course when developing your solution. Consider issues such as legends, labels, and chart junk.\n",
        "\n",
        "I've written some steps I think would be good to go through, but there are other ways to solve this assignment so feel free to explore the pandas library! What I really want to see is an image that looks like this sketch I drew at my desk:\n",
        "\n",
        "![](assets/chris_sketch.png)"
      ]
    },
    {
      "cell_type": "code",
      "execution_count": null,
      "metadata": {
        "deletable": false,
        "editable": false,
        "nbgrader": {
          "cell_type": "code",
          "checksum": "d8d9355fc55599cd2ad34fdd140baac1",
          "grade": false,
          "grade_id": "cell-f01cb0e8645e7c07",
          "locked": true,
          "schema_version": 3,
          "solution": false,
          "task": false
        },
        "id": "Rk4nincwZTth",
        "outputId": "b84dc23d-f863-4fce-f9a3-3adf65600985"
      },
      "outputs": [
        {
          "data": {
            "text/html": [
              "<div style=\"width:100%;\"><div style=\"position:relative;width:100%;height:0;padding-bottom:60%;\"><span style=\"color:#565656\">Make this Notebook Trusted to load map: File -> Trust Notebook</span><iframe srcdoc=\"&lt;!DOCTYPE html&gt;\n",
              "&lt;html&gt;\n",
              "&lt;head&gt;\n",
              "    \n",
              "    &lt;meta http-equiv=&quot;content-type&quot; content=&quot;text/html; charset=UTF-8&quot; /&gt;\n",
              "    \n",
              "        &lt;script&gt;\n",
              "            L_NO_TOUCH = false;\n",
              "            L_DISABLE_3D = false;\n",
              "        &lt;/script&gt;\n",
              "    \n",
              "    &lt;style&gt;html, body {width: 100%;height: 100%;margin: 0;padding: 0;}&lt;/style&gt;\n",
              "    &lt;style&gt;#map {position:absolute;top:0;bottom:0;right:0;left:0;}&lt;/style&gt;\n",
              "    &lt;script src=&quot;https://cdn.jsdelivr.net/npm/leaflet@1.6.0/dist/leaflet.js&quot;&gt;&lt;/script&gt;\n",
              "    &lt;script src=&quot;https://code.jquery.com/jquery-1.12.4.min.js&quot;&gt;&lt;/script&gt;\n",
              "    &lt;script src=&quot;https://maxcdn.bootstrapcdn.com/bootstrap/3.2.0/js/bootstrap.min.js&quot;&gt;&lt;/script&gt;\n",
              "    &lt;script src=&quot;https://cdnjs.cloudflare.com/ajax/libs/Leaflet.awesome-markers/2.0.2/leaflet.awesome-markers.js&quot;&gt;&lt;/script&gt;\n",
              "    &lt;link rel=&quot;stylesheet&quot; href=&quot;https://cdn.jsdelivr.net/npm/leaflet@1.6.0/dist/leaflet.css&quot;/&gt;\n",
              "    &lt;link rel=&quot;stylesheet&quot; href=&quot;https://maxcdn.bootstrapcdn.com/bootstrap/3.2.0/css/bootstrap.min.css&quot;/&gt;\n",
              "    &lt;link rel=&quot;stylesheet&quot; href=&quot;https://maxcdn.bootstrapcdn.com/bootstrap/3.2.0/css/bootstrap-theme.min.css&quot;/&gt;\n",
              "    &lt;link rel=&quot;stylesheet&quot; href=&quot;https://maxcdn.bootstrapcdn.com/font-awesome/4.6.3/css/font-awesome.min.css&quot;/&gt;\n",
              "    &lt;link rel=&quot;stylesheet&quot; href=&quot;https://cdnjs.cloudflare.com/ajax/libs/Leaflet.awesome-markers/2.0.2/leaflet.awesome-markers.css&quot;/&gt;\n",
              "    &lt;link rel=&quot;stylesheet&quot; href=&quot;https://cdn.jsdelivr.net/gh/python-visualization/folium/folium/templates/leaflet.awesome.rotate.min.css&quot;/&gt;\n",
              "    \n",
              "            &lt;meta name=&quot;viewport&quot; content=&quot;width=device-width,\n",
              "                initial-scale=1.0, maximum-scale=1.0, user-scalable=no&quot; /&gt;\n",
              "            &lt;style&gt;\n",
              "                #map_b7d2ecc0c1f138ce40e71988f19edd2c {\n",
              "                    position: relative;\n",
              "                    width: 100.0%;\n",
              "                    height: 500.0px;\n",
              "                    left: 0.0%;\n",
              "                    top: 0.0%;\n",
              "                }\n",
              "            &lt;/style&gt;\n",
              "        \n",
              "&lt;/head&gt;\n",
              "&lt;body&gt;\n",
              "    \n",
              "    \n",
              "            &lt;div class=&quot;folium-map&quot; id=&quot;map_b7d2ecc0c1f138ce40e71988f19edd2c&quot; &gt;&lt;/div&gt;\n",
              "        \n",
              "&lt;/body&gt;\n",
              "&lt;script&gt;\n",
              "    \n",
              "    \n",
              "            var map_b7d2ecc0c1f138ce40e71988f19edd2c = L.map(\n",
              "                &quot;map_b7d2ecc0c1f138ce40e71988f19edd2c&quot;,\n",
              "                {\n",
              "                    center: [41.9164, -84.0158],\n",
              "                    crs: L.CRS.EPSG3857,\n",
              "                    zoom: 9,\n",
              "                    zoomControl: true,\n",
              "                    preferCanvas: false,\n",
              "                }\n",
              "            );\n",
              "\n",
              "            \n",
              "\n",
              "        \n",
              "    \n",
              "            var tile_layer_9884c9c1af26f9a0b3aa6f2ae1f1ecdd = L.tileLayer(\n",
              "                &quot;https://{s}.tile.openstreetmap.org/{z}/{x}/{y}.png&quot;,\n",
              "                {&quot;attribution&quot;: &quot;Data by \\u0026copy; \\u003ca href=\\&quot;http://openstreetmap.org\\&quot;\\u003eOpenStreetMap\\u003c/a\\u003e, under \\u003ca href=\\&quot;http://www.openstreetmap.org/copyright\\&quot;\\u003eODbL\\u003c/a\\u003e.&quot;, &quot;detectRetina&quot;: false, &quot;maxNativeZoom&quot;: 18, &quot;maxZoom&quot;: 18, &quot;minZoom&quot;: 0, &quot;noWrap&quot;: false, &quot;opacity&quot;: 1, &quot;subdomains&quot;: &quot;abc&quot;, &quot;tms&quot;: false}\n",
              "            ).addTo(map_b7d2ecc0c1f138ce40e71988f19edd2c);\n",
              "        \n",
              "    \n",
              "            var marker_93950e658b14a4e20e4f6ee98d27e09f = L.marker(\n",
              "                [41.9164, -84.0158],\n",
              "                {}\n",
              "            ).addTo(map_b7d2ecc0c1f138ce40e71988f19edd2c);\n",
              "        \n",
              "    \n",
              "            var marker_954f21f172c9880d2caba38c74b35762 = L.marker(\n",
              "                [42.2875, -83.7611],\n",
              "                {}\n",
              "            ).addTo(map_b7d2ecc0c1f138ce40e71988f19edd2c);\n",
              "        \n",
              "    \n",
              "            var marker_8b001caaf69d77ed6bd1c71b31e28123 = L.marker(\n",
              "                [42.2417, -83.6933],\n",
              "                {}\n",
              "            ).addTo(map_b7d2ecc0c1f138ce40e71988f19edd2c);\n",
              "        \n",
              "    \n",
              "            var marker_8de8e20ebe4728c00686583b3e9ab62a = L.marker(\n",
              "                [42.2947, -83.7108],\n",
              "                {}\n",
              "            ).addTo(map_b7d2ecc0c1f138ce40e71988f19edd2c);\n",
              "        \n",
              "    \n",
              "            var marker_c7749bde0c297be7af0b3ad2810c1de5 = L.marker(\n",
              "                [41.84, -83.8608],\n",
              "                {}\n",
              "            ).addTo(map_b7d2ecc0c1f138ce40e71988f19edd2c);\n",
              "        \n",
              "    \n",
              "            var marker_5939b7aa72b3865bb0763d9570a6f635 = L.marker(\n",
              "                [42.0636, -83.4358],\n",
              "                {}\n",
              "            ).addTo(map_b7d2ecc0c1f138ce40e71988f19edd2c);\n",
              "        \n",
              "    \n",
              "            var marker_ee3cfef38e4efea92ae69288f138bb4f = L.marker(\n",
              "                [42.3264, -84.0133],\n",
              "                {}\n",
              "            ).addTo(map_b7d2ecc0c1f138ce40e71988f19edd2c);\n",
              "        \n",
              "    \n",
              "            var marker_2f05118289d8e273e0ea0e9e45dc5722 = L.marker(\n",
              "                [41.9553, -83.6489],\n",
              "                {}\n",
              "            ).addTo(map_b7d2ecc0c1f138ce40e71988f19edd2c);\n",
              "        \n",
              "    \n",
              "            var marker_7a51b92c65adc9adac4b1bdf6d10d4c9 = L.marker(\n",
              "                [42.4344, -83.9858],\n",
              "                {}\n",
              "            ).addTo(map_b7d2ecc0c1f138ce40e71988f19edd2c);\n",
              "        \n",
              "    \n",
              "            var marker_f9644bcec377e031787fa09eb10796f9 = L.marker(\n",
              "                [42.1508, -84.0236],\n",
              "                {}\n",
              "            ).addTo(map_b7d2ecc0c1f138ce40e71988f19edd2c);\n",
              "        \n",
              "    \n",
              "            var marker_ef1f074e803c0e3eb6cfbee0b8d7810c = L.marker(\n",
              "                [42.0664, -83.6186],\n",
              "                {}\n",
              "            ).addTo(map_b7d2ecc0c1f138ce40e71988f19edd2c);\n",
              "        \n",
              "    \n",
              "            var marker_073dcf2f221d47d988d8621dddf2fb75 = L.marker(\n",
              "                [42.0811, -83.6769],\n",
              "                {}\n",
              "            ).addTo(map_b7d2ecc0c1f138ce40e71988f19edd2c);\n",
              "        \n",
              "    \n",
              "            var marker_c9a743a724860083e88995c1efe86130 = L.marker(\n",
              "                [41.9069, -83.4158],\n",
              "                {}\n",
              "            ).addTo(map_b7d2ecc0c1f138ce40e71988f19edd2c);\n",
              "        \n",
              "    \n",
              "            var marker_652fafe6922b52779f66795e5cd1b513 = L.marker(\n",
              "                [41.9497, -83.28],\n",
              "                {}\n",
              "            ).addTo(map_b7d2ecc0c1f138ce40e71988f19edd2c);\n",
              "        \n",
              "    \n",
              "            var marker_0da601ce1813d91b1cf8471511edcee4 = L.marker(\n",
              "                [42.1611, -83.7819],\n",
              "                {}\n",
              "            ).addTo(map_b7d2ecc0c1f138ce40e71988f19edd2c);\n",
              "        \n",
              "    \n",
              "            var marker_724b6143cdb77b7a8283ff5cc5ca6f4b = L.marker(\n",
              "                [42.1236, -83.82],\n",
              "                {}\n",
              "            ).addTo(map_b7d2ecc0c1f138ce40e71988f19edd2c);\n",
              "        \n",
              "    \n",
              "            var marker_ec018adc1c773ba2c0f4711ce268f76e = L.marker(\n",
              "                [41.8069, -83.5831],\n",
              "                {}\n",
              "            ).addTo(map_b7d2ecc0c1f138ce40e71988f19edd2c);\n",
              "        \n",
              "    \n",
              "            var marker_ac9ece2f00e321e5d5f496837795a9cf = L.marker(\n",
              "                [42.0028, -83.9336],\n",
              "                {}\n",
              "            ).addTo(map_b7d2ecc0c1f138ce40e71988f19edd2c);\n",
              "        \n",
              "    \n",
              "            var marker_785a328e20dff810bd730959460aab0e = L.marker(\n",
              "                [42.0283, -84.1108],\n",
              "                {}\n",
              "            ).addTo(map_b7d2ecc0c1f138ce40e71988f19edd2c);\n",
              "        \n",
              "    \n",
              "            var marker_c65af2539c403a55cb2cab714959c3eb = L.marker(\n",
              "                [42.4356, -83.7831],\n",
              "                {}\n",
              "            ).addTo(map_b7d2ecc0c1f138ce40e71988f19edd2c);\n",
              "        \n",
              "    \n",
              "            var marker_ca7afefb0bd018ae5ad15265237ee2e7 = L.marker(\n",
              "                [41.5631, -83.4764],\n",
              "                {}\n",
              "            ).addTo(map_b7d2ecc0c1f138ce40e71988f19edd2c);\n",
              "        \n",
              "    \n",
              "            var marker_c9b23f4b8ad6501b9a58621f91899091 = L.marker(\n",
              "                [42.2667, -84.4667],\n",
              "                {}\n",
              "            ).addTo(map_b7d2ecc0c1f138ce40e71988f19edd2c);\n",
              "        \n",
              "    \n",
              "            var marker_2a4a7f257c11e65e3e1c99b3d48844b8 = L.marker(\n",
              "                [42.2333, -83.5333],\n",
              "                {}\n",
              "            ).addTo(map_b7d2ecc0c1f138ce40e71988f19edd2c);\n",
              "        \n",
              "    \n",
              "            var marker_16aadb285da6de43d56d8532d0df0dc4 = L.marker(\n",
              "                [42.2228, -83.7444],\n",
              "                {}\n",
              "            ).addTo(map_b7d2ecc0c1f138ce40e71988f19edd2c);\n",
              "        \n",
              "&lt;/script&gt;\n",
              "&lt;/html&gt;\" style=\"position:absolute;width:100%;height:100%;left:0;top:0;border:none !important;\" allowfullscreen webkitallowfullscreen mozallowfullscreen></iframe></div></div>"
            ],
            "text/plain": [
              "<folium.folium.Map at 0x7f984c638160>"
            ]
          },
          "metadata": {},
          "output_type": "display_data"
        }
      ],
      "source": [
        "#  I'll be using the folium package to render the data into a map in Jupyter.\n",
        "\n",
        "import folium\n",
        "import pandas as pd\n",
        "\n",
        "# get the location information for this dataset\n",
        "df = pd.read_csv('assets/BinSize_d400.csv')\n",
        "station_locations_by_hash = df[df['hash'] == 'fb441e62df2d58994928907a91895ec62c2c42e6cd075c2700843b89']\n",
        "\n",
        "# get longitude and lattitude to plot\n",
        "lons = station_locations_by_hash['LONGITUDE'].tolist()\n",
        "lats = station_locations_by_hash['LATITUDE'].tolist()\n",
        "\n",
        "# plot on a beautiful folium map\n",
        "my_map = folium.Map(location = [lats[0], lons[0]], height = 500,  zoom_start = 9)\n",
        "for lat, lon in zip(lats, lons):\n",
        "    folium.Marker([lat, lon]).add_to(my_map)\n",
        "\n",
        "# render map in Jupyter\n",
        "display(my_map)"
      ]
    },
    {
      "cell_type": "markdown",
      "metadata": {
        "deletable": false,
        "editable": false,
        "nbgrader": {
          "cell_type": "markdown",
          "checksum": "bdc325fa4d9973f46af3ecb7bea77242",
          "grade": false,
          "grade_id": "cell-695e4689bc5509b6",
          "locked": true,
          "schema_version": 3,
          "solution": false,
          "task": false
        },
        "id": "KrXSTOZdZTth"
      },
      "source": [
        "## Step 1\n",
        "Load the dataset and transform the data into Celcius (refer to documentation) then extract all of the rows which have minimum or maximum temperatures.\n",
        "\n",
        "__hint: when I did this step I had two DataFrame objects, each with ~80,000 entries in it__"
      ]
    },
    {
      "cell_type": "code",
      "execution_count": null,
      "metadata": {
        "deletable": false,
        "editable": false,
        "nbgrader": {
          "cell_type": "code",
          "checksum": "9add8292fe8271a8f79a92e4ba38baec",
          "grade": false,
          "grade_id": "cell-f508059dd84e9b7c",
          "locked": true,
          "schema_version": 3,
          "solution": false,
          "task": false
        },
        "id": "ZbNk0lt2ZTti",
        "outputId": "f1124041-a5ee-458e-bf85-5fe3118a804d"
      },
      "outputs": [
        {
          "data": {
            "text/html": [
              "<div>\n",
              "<style scoped>\n",
              "    .dataframe tbody tr th:only-of-type {\n",
              "        vertical-align: middle;\n",
              "    }\n",
              "\n",
              "    .dataframe tbody tr th {\n",
              "        vertical-align: top;\n",
              "    }\n",
              "\n",
              "    .dataframe thead th {\n",
              "        text-align: right;\n",
              "    }\n",
              "</style>\n",
              "<table border=\"1\" class=\"dataframe\">\n",
              "  <thead>\n",
              "    <tr style=\"text-align: right;\">\n",
              "      <th></th>\n",
              "      <th>ID</th>\n",
              "      <th>Date</th>\n",
              "      <th>Element</th>\n",
              "      <th>Data_Value</th>\n",
              "    </tr>\n",
              "  </thead>\n",
              "  <tbody>\n",
              "    <tr>\n",
              "      <th>0</th>\n",
              "      <td>USW00094889</td>\n",
              "      <td>2014-11-12</td>\n",
              "      <td>TMAX</td>\n",
              "      <td>22</td>\n",
              "    </tr>\n",
              "    <tr>\n",
              "      <th>1</th>\n",
              "      <td>USC00208972</td>\n",
              "      <td>2009-04-29</td>\n",
              "      <td>TMIN</td>\n",
              "      <td>56</td>\n",
              "    </tr>\n",
              "    <tr>\n",
              "      <th>2</th>\n",
              "      <td>USC00200032</td>\n",
              "      <td>2008-05-26</td>\n",
              "      <td>TMAX</td>\n",
              "      <td>278</td>\n",
              "    </tr>\n",
              "    <tr>\n",
              "      <th>3</th>\n",
              "      <td>USC00205563</td>\n",
              "      <td>2005-11-11</td>\n",
              "      <td>TMAX</td>\n",
              "      <td>139</td>\n",
              "    </tr>\n",
              "    <tr>\n",
              "      <th>4</th>\n",
              "      <td>USC00200230</td>\n",
              "      <td>2014-02-27</td>\n",
              "      <td>TMAX</td>\n",
              "      <td>-106</td>\n",
              "    </tr>\n",
              "  </tbody>\n",
              "</table>\n",
              "</div>"
            ],
            "text/plain": [
              "            ID        Date Element  Data_Value\n",
              "0  USW00094889  2014-11-12    TMAX          22\n",
              "1  USC00208972  2009-04-29    TMIN          56\n",
              "2  USC00200032  2008-05-26    TMAX         278\n",
              "3  USC00205563  2005-11-11    TMAX         139\n",
              "4  USC00200230  2014-02-27    TMAX        -106"
            ]
          },
          "execution_count": 2,
          "metadata": {},
          "output_type": "execute_result"
        }
      ],
      "source": [
        "import pandas as pd\n",
        "df = pd.read_csv('assets/fb441e62df2d58994928907a91895ec62c2c42e6cd075c2700843b89.csv')\n",
        "df.head()\n",
        "\n",
        "# In a new code cell, transform the Data_Value column"
      ]
    },
    {
      "cell_type": "code",
      "execution_count": null,
      "metadata": {
        "id": "y7Dt-n02ZTti",
        "outputId": "6675d5a1-8013-4de2-d88d-b629ccafa173"
      },
      "outputs": [
        {
          "name": "stdout",
          "output_type": "stream",
          "text": [
            "<class 'pandas.core.frame.DataFrame'>\n",
            "RangeIndex: 165085 entries, 0 to 165084\n",
            "Data columns (total 4 columns):\n",
            " #   Column      Non-Null Count   Dtype \n",
            "---  ------      --------------   ----- \n",
            " 0   ID          165085 non-null  object\n",
            " 1   Date        165085 non-null  object\n",
            " 2   Element     165085 non-null  object\n",
            " 3   Data_Value  165085 non-null  int64 \n",
            "dtypes: int64(1), object(3)\n",
            "memory usage: 5.0+ MB\n"
          ]
        }
      ],
      "source": [
        "df.info()"
      ]
    },
    {
      "cell_type": "code",
      "execution_count": null,
      "metadata": {
        "id": "_VIShNDRZTti",
        "outputId": "43f2b7c6-c3aa-4048-b691-05c487aa1ba9"
      },
      "outputs": [
        {
          "data": {
            "text/html": [
              "<div>\n",
              "<style scoped>\n",
              "    .dataframe tbody tr th:only-of-type {\n",
              "        vertical-align: middle;\n",
              "    }\n",
              "\n",
              "    .dataframe tbody tr th {\n",
              "        vertical-align: top;\n",
              "    }\n",
              "\n",
              "    .dataframe thead th {\n",
              "        text-align: right;\n",
              "    }\n",
              "</style>\n",
              "<table border=\"1\" class=\"dataframe\">\n",
              "  <thead>\n",
              "    <tr style=\"text-align: right;\">\n",
              "      <th></th>\n",
              "      <th>ID</th>\n",
              "      <th>Date</th>\n",
              "      <th>Element</th>\n",
              "      <th>Data_Value</th>\n",
              "    </tr>\n",
              "  </thead>\n",
              "  <tbody>\n",
              "    <tr>\n",
              "      <th>0</th>\n",
              "      <td>USW00094889</td>\n",
              "      <td>2014-11-12</td>\n",
              "      <td>TMAX</td>\n",
              "      <td>22</td>\n",
              "    </tr>\n",
              "    <tr>\n",
              "      <th>1</th>\n",
              "      <td>USC00208972</td>\n",
              "      <td>2009-04-29</td>\n",
              "      <td>TMIN</td>\n",
              "      <td>56</td>\n",
              "    </tr>\n",
              "    <tr>\n",
              "      <th>2</th>\n",
              "      <td>USC00200032</td>\n",
              "      <td>2008-05-26</td>\n",
              "      <td>TMAX</td>\n",
              "      <td>278</td>\n",
              "    </tr>\n",
              "    <tr>\n",
              "      <th>3</th>\n",
              "      <td>USC00205563</td>\n",
              "      <td>2005-11-11</td>\n",
              "      <td>TMAX</td>\n",
              "      <td>139</td>\n",
              "    </tr>\n",
              "    <tr>\n",
              "      <th>4</th>\n",
              "      <td>USC00200230</td>\n",
              "      <td>2014-02-27</td>\n",
              "      <td>TMAX</td>\n",
              "      <td>-106</td>\n",
              "    </tr>\n",
              "  </tbody>\n",
              "</table>\n",
              "</div>"
            ],
            "text/plain": [
              "            ID       Date Element  Data_Value\n",
              "0  USW00094889 2014-11-12    TMAX          22\n",
              "1  USC00208972 2009-04-29    TMIN          56\n",
              "2  USC00200032 2008-05-26    TMAX         278\n",
              "3  USC00205563 2005-11-11    TMAX         139\n",
              "4  USC00200230 2014-02-27    TMAX        -106"
            ]
          },
          "execution_count": 4,
          "metadata": {},
          "output_type": "execute_result"
        }
      ],
      "source": [
        "df.Date = pd.to_datetime(df.Date)\n",
        "df.head()"
      ]
    },
    {
      "cell_type": "code",
      "execution_count": null,
      "metadata": {
        "id": "0EUAQC1qZTtj",
        "outputId": "20370080-eaeb-429d-94e6-cb4e19c684a4"
      },
      "outputs": [
        {
          "name": "stdout",
          "output_type": "stream",
          "text": [
            "<class 'pandas.core.frame.DataFrame'>\n",
            "RangeIndex: 165085 entries, 0 to 165084\n",
            "Data columns (total 4 columns):\n",
            " #   Column      Non-Null Count   Dtype         \n",
            "---  ------      --------------   -----         \n",
            " 0   ID          165085 non-null  object        \n",
            " 1   Date        165085 non-null  datetime64[ns]\n",
            " 2   Element     165085 non-null  object        \n",
            " 3   Data_Value  165085 non-null  int64         \n",
            "dtypes: datetime64[ns](1), int64(1), object(2)\n",
            "memory usage: 5.0+ MB\n"
          ]
        }
      ],
      "source": [
        "df.info()"
      ]
    },
    {
      "cell_type": "code",
      "execution_count": null,
      "metadata": {
        "id": "XGQztHuHZTtj",
        "outputId": "2d44e429-50d4-4bdb-dd60-6ab995592b61"
      },
      "outputs": [
        {
          "data": {
            "text/html": [
              "<div>\n",
              "<style scoped>\n",
              "    .dataframe tbody tr th:only-of-type {\n",
              "        vertical-align: middle;\n",
              "    }\n",
              "\n",
              "    .dataframe tbody tr th {\n",
              "        vertical-align: top;\n",
              "    }\n",
              "\n",
              "    .dataframe thead th {\n",
              "        text-align: right;\n",
              "    }\n",
              "</style>\n",
              "<table border=\"1\" class=\"dataframe\">\n",
              "  <thead>\n",
              "    <tr style=\"text-align: right;\">\n",
              "      <th></th>\n",
              "      <th>ID</th>\n",
              "      <th>Date</th>\n",
              "      <th>Element</th>\n",
              "      <th>Data_Value</th>\n",
              "    </tr>\n",
              "  </thead>\n",
              "  <tbody>\n",
              "    <tr>\n",
              "      <th>60995</th>\n",
              "      <td>USW00004848</td>\n",
              "      <td>2005-01-01</td>\n",
              "      <td>TMIN</td>\n",
              "      <td>0</td>\n",
              "    </tr>\n",
              "    <tr>\n",
              "      <th>17153</th>\n",
              "      <td>USC00207320</td>\n",
              "      <td>2005-01-01</td>\n",
              "      <td>TMAX</td>\n",
              "      <td>150</td>\n",
              "    </tr>\n",
              "    <tr>\n",
              "      <th>17155</th>\n",
              "      <td>USC00207320</td>\n",
              "      <td>2005-01-01</td>\n",
              "      <td>TMIN</td>\n",
              "      <td>-11</td>\n",
              "    </tr>\n",
              "    <tr>\n",
              "      <th>10079</th>\n",
              "      <td>USW00014833</td>\n",
              "      <td>2005-01-01</td>\n",
              "      <td>TMIN</td>\n",
              "      <td>-44</td>\n",
              "    </tr>\n",
              "    <tr>\n",
              "      <th>10073</th>\n",
              "      <td>USW00014833</td>\n",
              "      <td>2005-01-01</td>\n",
              "      <td>TMAX</td>\n",
              "      <td>33</td>\n",
              "    </tr>\n",
              "  </tbody>\n",
              "</table>\n",
              "</div>"
            ],
            "text/plain": [
              "                ID       Date Element  Data_Value\n",
              "60995  USW00004848 2005-01-01    TMIN           0\n",
              "17153  USC00207320 2005-01-01    TMAX         150\n",
              "17155  USC00207320 2005-01-01    TMIN         -11\n",
              "10079  USW00014833 2005-01-01    TMIN         -44\n",
              "10073  USW00014833 2005-01-01    TMAX          33"
            ]
          },
          "execution_count": 6,
          "metadata": {},
          "output_type": "execute_result"
        }
      ],
      "source": [
        "import numpy as np\n",
        "df.sort_values(by = 'Date', inplace = True)\n",
        "df.head()"
      ]
    },
    {
      "cell_type": "code",
      "execution_count": null,
      "metadata": {
        "id": "2PDv-uBPZTtj",
        "outputId": "63d965b0-adb7-4c4a-84e8-e67428199bc0"
      },
      "outputs": [
        {
          "data": {
            "text/html": [
              "<div>\n",
              "<style scoped>\n",
              "    .dataframe tbody tr th:only-of-type {\n",
              "        vertical-align: middle;\n",
              "    }\n",
              "\n",
              "    .dataframe tbody tr th {\n",
              "        vertical-align: top;\n",
              "    }\n",
              "\n",
              "    .dataframe thead th {\n",
              "        text-align: right;\n",
              "    }\n",
              "</style>\n",
              "<table border=\"1\" class=\"dataframe\">\n",
              "  <thead>\n",
              "    <tr style=\"text-align: right;\">\n",
              "      <th></th>\n",
              "      <th>ID</th>\n",
              "      <th>Date</th>\n",
              "      <th>Element</th>\n",
              "      <th>Data_Value</th>\n",
              "    </tr>\n",
              "  </thead>\n",
              "  <tbody>\n",
              "    <tr>\n",
              "      <th>60995</th>\n",
              "      <td>USW00004848</td>\n",
              "      <td>2005-01-01</td>\n",
              "      <td>TMIN</td>\n",
              "      <td>0.0</td>\n",
              "    </tr>\n",
              "    <tr>\n",
              "      <th>17153</th>\n",
              "      <td>USC00207320</td>\n",
              "      <td>2005-01-01</td>\n",
              "      <td>TMAX</td>\n",
              "      <td>15.0</td>\n",
              "    </tr>\n",
              "    <tr>\n",
              "      <th>17155</th>\n",
              "      <td>USC00207320</td>\n",
              "      <td>2005-01-01</td>\n",
              "      <td>TMIN</td>\n",
              "      <td>-1.1</td>\n",
              "    </tr>\n",
              "    <tr>\n",
              "      <th>10079</th>\n",
              "      <td>USW00014833</td>\n",
              "      <td>2005-01-01</td>\n",
              "      <td>TMIN</td>\n",
              "      <td>-4.4</td>\n",
              "    </tr>\n",
              "    <tr>\n",
              "      <th>10073</th>\n",
              "      <td>USW00014833</td>\n",
              "      <td>2005-01-01</td>\n",
              "      <td>TMAX</td>\n",
              "      <td>3.3</td>\n",
              "    </tr>\n",
              "  </tbody>\n",
              "</table>\n",
              "</div>"
            ],
            "text/plain": [
              "                ID       Date Element  Data_Value\n",
              "60995  USW00004848 2005-01-01    TMIN         0.0\n",
              "17153  USC00207320 2005-01-01    TMAX        15.0\n",
              "17155  USC00207320 2005-01-01    TMIN        -1.1\n",
              "10079  USW00014833 2005-01-01    TMIN        -4.4\n",
              "10073  USW00014833 2005-01-01    TMAX         3.3"
            ]
          },
          "execution_count": 7,
          "metadata": {},
          "output_type": "execute_result"
        }
      ],
      "source": [
        "#convert temperature from thenhs of degree C to degree C\n",
        "df['Data_Value'] = 0.1*df.Data_Value\n",
        "df.head()"
      ]
    },
    {
      "cell_type": "code",
      "execution_count": null,
      "metadata": {
        "id": "u1T_m3P6ZTtj",
        "outputId": "b628e983-af58-429d-91ce-349231a9127e"
      },
      "outputs": [
        {
          "data": {
            "text/html": [
              "<div>\n",
              "<style scoped>\n",
              "    .dataframe tbody tr th:only-of-type {\n",
              "        vertical-align: middle;\n",
              "    }\n",
              "\n",
              "    .dataframe tbody tr th {\n",
              "        vertical-align: top;\n",
              "    }\n",
              "\n",
              "    .dataframe thead th {\n",
              "        text-align: right;\n",
              "    }\n",
              "</style>\n",
              "<table border=\"1\" class=\"dataframe\">\n",
              "  <thead>\n",
              "    <tr style=\"text-align: right;\">\n",
              "      <th></th>\n",
              "      <th>ID</th>\n",
              "      <th>Date</th>\n",
              "      <th>Element</th>\n",
              "      <th>Data_Value</th>\n",
              "    </tr>\n",
              "  </thead>\n",
              "  <tbody>\n",
              "    <tr>\n",
              "      <th>17153</th>\n",
              "      <td>USC00207320</td>\n",
              "      <td>2005-01-01</td>\n",
              "      <td>TMAX</td>\n",
              "      <td>15.0</td>\n",
              "    </tr>\n",
              "    <tr>\n",
              "      <th>10073</th>\n",
              "      <td>USW00014833</td>\n",
              "      <td>2005-01-01</td>\n",
              "      <td>TMAX</td>\n",
              "      <td>3.3</td>\n",
              "    </tr>\n",
              "    <tr>\n",
              "      <th>60994</th>\n",
              "      <td>USW00004848</td>\n",
              "      <td>2005-01-01</td>\n",
              "      <td>TMAX</td>\n",
              "      <td>13.3</td>\n",
              "    </tr>\n",
              "    <tr>\n",
              "      <th>39454</th>\n",
              "      <td>USC00205563</td>\n",
              "      <td>2005-01-01</td>\n",
              "      <td>TMAX</td>\n",
              "      <td>2.8</td>\n",
              "    </tr>\n",
              "    <tr>\n",
              "      <th>18049</th>\n",
              "      <td>USW00014853</td>\n",
              "      <td>2005-01-01</td>\n",
              "      <td>TMAX</td>\n",
              "      <td>5.6</td>\n",
              "    </tr>\n",
              "  </tbody>\n",
              "</table>\n",
              "</div>"
            ],
            "text/plain": [
              "                ID       Date Element  Data_Value\n",
              "17153  USC00207320 2005-01-01    TMAX        15.0\n",
              "10073  USW00014833 2005-01-01    TMAX         3.3\n",
              "60994  USW00004848 2005-01-01    TMAX        13.3\n",
              "39454  USC00205563 2005-01-01    TMAX         2.8\n",
              "18049  USW00014853 2005-01-01    TMAX         5.6"
            ]
          },
          "execution_count": 8,
          "metadata": {},
          "output_type": "execute_result"
        }
      ],
      "source": [
        "#Creating TMAX dataframe\n",
        "df_TMAX = df[df.Element == 'TMAX']\n",
        "df_TMAX.head()"
      ]
    },
    {
      "cell_type": "code",
      "execution_count": null,
      "metadata": {
        "id": "F32xhX3nZTtk",
        "outputId": "f5c7066c-5a63-4be3-ac21-51236cc0bdd6"
      },
      "outputs": [
        {
          "name": "stdout",
          "output_type": "stream",
          "text": [
            "<class 'pandas.core.frame.DataFrame'>\n",
            "Int64Index: 83063 entries, 17153 to 21088\n",
            "Data columns (total 4 columns):\n",
            " #   Column      Non-Null Count  Dtype         \n",
            "---  ------      --------------  -----         \n",
            " 0   ID          83063 non-null  object        \n",
            " 1   Date        83063 non-null  datetime64[ns]\n",
            " 2   Element     83063 non-null  object        \n",
            " 3   Data_Value  83063 non-null  float64       \n",
            "dtypes: datetime64[ns](1), float64(1), object(2)\n",
            "memory usage: 3.2+ MB\n"
          ]
        }
      ],
      "source": [
        "df_TMAX.info()"
      ]
    },
    {
      "cell_type": "code",
      "execution_count": null,
      "metadata": {
        "id": "Z43XewKSZTtk",
        "outputId": "fc433446-da5c-4559-863b-78a3ba23d3f0"
      },
      "outputs": [
        {
          "data": {
            "text/html": [
              "<div>\n",
              "<style scoped>\n",
              "    .dataframe tbody tr th:only-of-type {\n",
              "        vertical-align: middle;\n",
              "    }\n",
              "\n",
              "    .dataframe tbody tr th {\n",
              "        vertical-align: top;\n",
              "    }\n",
              "\n",
              "    .dataframe thead th {\n",
              "        text-align: right;\n",
              "    }\n",
              "</style>\n",
              "<table border=\"1\" class=\"dataframe\">\n",
              "  <thead>\n",
              "    <tr style=\"text-align: right;\">\n",
              "      <th></th>\n",
              "      <th>ID</th>\n",
              "      <th>Date</th>\n",
              "      <th>Element</th>\n",
              "      <th>Data_Value</th>\n",
              "    </tr>\n",
              "  </thead>\n",
              "  <tbody>\n",
              "    <tr>\n",
              "      <th>60995</th>\n",
              "      <td>USW00004848</td>\n",
              "      <td>2005-01-01</td>\n",
              "      <td>TMIN</td>\n",
              "      <td>0.0</td>\n",
              "    </tr>\n",
              "    <tr>\n",
              "      <th>17155</th>\n",
              "      <td>USC00207320</td>\n",
              "      <td>2005-01-01</td>\n",
              "      <td>TMIN</td>\n",
              "      <td>-1.1</td>\n",
              "    </tr>\n",
              "    <tr>\n",
              "      <th>10079</th>\n",
              "      <td>USW00014833</td>\n",
              "      <td>2005-01-01</td>\n",
              "      <td>TMIN</td>\n",
              "      <td>-4.4</td>\n",
              "    </tr>\n",
              "    <tr>\n",
              "      <th>2812</th>\n",
              "      <td>USC00203712</td>\n",
              "      <td>2005-01-01</td>\n",
              "      <td>TMIN</td>\n",
              "      <td>-5.0</td>\n",
              "    </tr>\n",
              "    <tr>\n",
              "      <th>24805</th>\n",
              "      <td>USW00094889</td>\n",
              "      <td>2005-01-01</td>\n",
              "      <td>TMIN</td>\n",
              "      <td>-5.6</td>\n",
              "    </tr>\n",
              "  </tbody>\n",
              "</table>\n",
              "</div>"
            ],
            "text/plain": [
              "                ID       Date Element  Data_Value\n",
              "60995  USW00004848 2005-01-01    TMIN         0.0\n",
              "17155  USC00207320 2005-01-01    TMIN        -1.1\n",
              "10079  USW00014833 2005-01-01    TMIN        -4.4\n",
              "2812   USC00203712 2005-01-01    TMIN        -5.0\n",
              "24805  USW00094889 2005-01-01    TMIN        -5.6"
            ]
          },
          "execution_count": 10,
          "metadata": {},
          "output_type": "execute_result"
        }
      ],
      "source": [
        "#Creating TMIN dataframe\n",
        "df_MIN = df[df.Element == 'TMIN']\n",
        "df_MIN.head()"
      ]
    },
    {
      "cell_type": "code",
      "execution_count": null,
      "metadata": {
        "id": "bt29MaFOZTtk",
        "outputId": "7825b32c-b222-47a1-ac88-fb6768315365"
      },
      "outputs": [
        {
          "name": "stdout",
          "output_type": "stream",
          "text": [
            "<class 'pandas.core.frame.DataFrame'>\n",
            "Int64Index: 82022 entries, 60995 to 29410\n",
            "Data columns (total 4 columns):\n",
            " #   Column      Non-Null Count  Dtype         \n",
            "---  ------      --------------  -----         \n",
            " 0   ID          82022 non-null  object        \n",
            " 1   Date        82022 non-null  datetime64[ns]\n",
            " 2   Element     82022 non-null  object        \n",
            " 3   Data_Value  82022 non-null  float64       \n",
            "dtypes: datetime64[ns](1), float64(1), object(2)\n",
            "memory usage: 3.1+ MB\n"
          ]
        }
      ],
      "source": [
        "df_MIN.info()"
      ]
    },
    {
      "cell_type": "markdown",
      "metadata": {
        "deletable": false,
        "editable": false,
        "nbgrader": {
          "cell_type": "markdown",
          "checksum": "76f2478088402765c38ed2b9db771916",
          "grade": false,
          "grade_id": "cell-c5718635688cb408",
          "locked": true,
          "schema_version": 3,
          "solution": false,
          "task": false
        },
        "id": "xssnjWucZTtk"
      },
      "source": [
        "## Step 2\n",
        "In order to visualize the data we would plot the min and max data for each day of the year between the years 2005 and 2014 across all weather stations. But we also need to find out when the min or max temperature in 2015 falls below the min or rises above the max for the previous decade.\n",
        "\n",
        "If you did step 1 you have two Series objects with min and max times for the years 2005 through 2015. You can use Pandas `groupby` to create max and min temperature Series objects across all weather stations for each day of these years, and you can deal with the records for February 29 (the leap year) by dropping them.\n",
        "\n",
        "__hint: when I finished this step, I had two DataFrame objects, each with exactly 4015 observations in them__"
      ]
    },
    {
      "cell_type": "code",
      "execution_count": null,
      "metadata": {
        "deletable": false,
        "editable": false,
        "nbgrader": {
          "cell_type": "code",
          "checksum": "7d47a7121a652cdd027fb2184cafd786",
          "grade": false,
          "grade_id": "cell-19de707b51983215",
          "locked": true,
          "schema_version": 3,
          "solution": false,
          "task": false
        },
        "id": "Su69N_w0ZTtk"
      },
      "outputs": [],
      "source": [
        "# create a DataFrame of maximum temperature by date\n",
        "\n",
        "# create a DataFrame of minimum temperatures by date"
      ]
    },
    {
      "cell_type": "code",
      "execution_count": null,
      "metadata": {
        "id": "ZqWYLGkHZTtk",
        "outputId": "08042da9-b3c9-43ef-efc1-d49a1b9cd467"
      },
      "outputs": [
        {
          "data": {
            "text/html": [
              "<div>\n",
              "<style scoped>\n",
              "    .dataframe tbody tr th:only-of-type {\n",
              "        vertical-align: middle;\n",
              "    }\n",
              "\n",
              "    .dataframe tbody tr th {\n",
              "        vertical-align: top;\n",
              "    }\n",
              "\n",
              "    .dataframe thead th {\n",
              "        text-align: right;\n",
              "    }\n",
              "</style>\n",
              "<table border=\"1\" class=\"dataframe\">\n",
              "  <thead>\n",
              "    <tr style=\"text-align: right;\">\n",
              "      <th></th>\n",
              "      <th>ID</th>\n",
              "      <th>Date</th>\n",
              "      <th>Element</th>\n",
              "      <th>Data_Value</th>\n",
              "      <th>Month</th>\n",
              "      <th>Year</th>\n",
              "      <th>Day</th>\n",
              "    </tr>\n",
              "  </thead>\n",
              "  <tbody>\n",
              "    <tr>\n",
              "      <th>17153</th>\n",
              "      <td>USC00207320</td>\n",
              "      <td>2005-01-01</td>\n",
              "      <td>TMAX</td>\n",
              "      <td>15.0</td>\n",
              "      <td>1</td>\n",
              "      <td>2005</td>\n",
              "      <td>1</td>\n",
              "    </tr>\n",
              "    <tr>\n",
              "      <th>10073</th>\n",
              "      <td>USW00014833</td>\n",
              "      <td>2005-01-01</td>\n",
              "      <td>TMAX</td>\n",
              "      <td>3.3</td>\n",
              "      <td>1</td>\n",
              "      <td>2005</td>\n",
              "      <td>1</td>\n",
              "    </tr>\n",
              "    <tr>\n",
              "      <th>60994</th>\n",
              "      <td>USW00004848</td>\n",
              "      <td>2005-01-01</td>\n",
              "      <td>TMAX</td>\n",
              "      <td>13.3</td>\n",
              "      <td>1</td>\n",
              "      <td>2005</td>\n",
              "      <td>1</td>\n",
              "    </tr>\n",
              "    <tr>\n",
              "      <th>39454</th>\n",
              "      <td>USC00205563</td>\n",
              "      <td>2005-01-01</td>\n",
              "      <td>TMAX</td>\n",
              "      <td>2.8</td>\n",
              "      <td>1</td>\n",
              "      <td>2005</td>\n",
              "      <td>1</td>\n",
              "    </tr>\n",
              "    <tr>\n",
              "      <th>18049</th>\n",
              "      <td>USW00014853</td>\n",
              "      <td>2005-01-01</td>\n",
              "      <td>TMAX</td>\n",
              "      <td>5.6</td>\n",
              "      <td>1</td>\n",
              "      <td>2005</td>\n",
              "      <td>1</td>\n",
              "    </tr>\n",
              "  </tbody>\n",
              "</table>\n",
              "</div>"
            ],
            "text/plain": [
              "                ID       Date Element  Data_Value  Month  Year  Day\n",
              "17153  USC00207320 2005-01-01    TMAX        15.0      1  2005    1\n",
              "10073  USW00014833 2005-01-01    TMAX         3.3      1  2005    1\n",
              "60994  USW00004848 2005-01-01    TMAX        13.3      1  2005    1\n",
              "39454  USC00205563 2005-01-01    TMAX         2.8      1  2005    1\n",
              "18049  USW00014853 2005-01-01    TMAX         5.6      1  2005    1"
            ]
          },
          "execution_count": 13,
          "metadata": {},
          "output_type": "execute_result"
        }
      ],
      "source": [
        "df_TMAX['Month'] = df_TMAX['Date'].apply(lambda x: x.month)\n",
        "df_TMAX['Year'] = df_TMAX['Date'].apply(lambda x: x.year)\n",
        "df_TMAX['Day'] = df_TMAX['Date'].apply(lambda x: x.day)\n",
        "\n",
        "df_TMAX.head()"
      ]
    },
    {
      "cell_type": "code",
      "execution_count": null,
      "metadata": {
        "id": "mT0eq4UAZTtk",
        "outputId": "0bfac1f0-13b9-44fe-f4ed-9ee47ee1620a"
      },
      "outputs": [
        {
          "data": {
            "text/plain": [
              "array([2008, 2012])"
            ]
          },
          "execution_count": 14,
          "metadata": {},
          "output_type": "execute_result"
        }
      ],
      "source": [
        "#Looking for year with 29th February\n",
        "np.unique(df_TMAX[(df_TMAX['Day'] == 29)&(df_TMAX['Month'] == 2)]['Year'])"
      ]
    },
    {
      "cell_type": "code",
      "execution_count": null,
      "metadata": {
        "id": "L3vSiBvWZTtk"
      },
      "outputs": [],
      "source": [
        "#Removing 29th February\n",
        "df_TMAX = df_TMAX[~ df_TMAX['Date'].isin(['2012-02-29','2008-02-29'])]"
      ]
    },
    {
      "cell_type": "code",
      "execution_count": null,
      "metadata": {
        "id": "o2mKqROwZTtl",
        "outputId": "2d0ca054-db07-4f0e-aeb1-8c1513286cbd"
      },
      "outputs": [
        {
          "name": "stdout",
          "output_type": "stream",
          "text": [
            "<class 'pandas.core.frame.DataFrame'>\n",
            "Int64Index: 83020 entries, 17153 to 21088\n",
            "Data columns (total 7 columns):\n",
            " #   Column      Non-Null Count  Dtype         \n",
            "---  ------      --------------  -----         \n",
            " 0   ID          83020 non-null  object        \n",
            " 1   Date        83020 non-null  datetime64[ns]\n",
            " 2   Element     83020 non-null  object        \n",
            " 3   Data_Value  83020 non-null  float64       \n",
            " 4   Month       83020 non-null  int64         \n",
            " 5   Year        83020 non-null  int64         \n",
            " 6   Day         83020 non-null  int64         \n",
            "dtypes: datetime64[ns](1), float64(1), int64(3), object(2)\n",
            "memory usage: 5.1+ MB\n"
          ]
        }
      ],
      "source": [
        "df_TMAX.info()"
      ]
    },
    {
      "cell_type": "code",
      "execution_count": null,
      "metadata": {
        "id": "4PnuvkqJZTtl",
        "outputId": "5bc37bf4-f9f7-4d54-d48d-f54fef66f8b3"
      },
      "outputs": [
        {
          "data": {
            "text/html": [
              "<div>\n",
              "<style scoped>\n",
              "    .dataframe tbody tr th:only-of-type {\n",
              "        vertical-align: middle;\n",
              "    }\n",
              "\n",
              "    .dataframe tbody tr th {\n",
              "        vertical-align: top;\n",
              "    }\n",
              "\n",
              "    .dataframe thead th {\n",
              "        text-align: right;\n",
              "    }\n",
              "</style>\n",
              "<table border=\"1\" class=\"dataframe\">\n",
              "  <thead>\n",
              "    <tr style=\"text-align: right;\">\n",
              "      <th></th>\n",
              "      <th>ID</th>\n",
              "      <th>Date</th>\n",
              "      <th>Element</th>\n",
              "      <th>Data_Value</th>\n",
              "      <th>Month</th>\n",
              "      <th>Year</th>\n",
              "      <th>Day</th>\n",
              "    </tr>\n",
              "  </thead>\n",
              "  <tbody>\n",
              "    <tr>\n",
              "      <th>60995</th>\n",
              "      <td>USW00004848</td>\n",
              "      <td>2005-01-01</td>\n",
              "      <td>TMIN</td>\n",
              "      <td>0.0</td>\n",
              "      <td>1</td>\n",
              "      <td>2005</td>\n",
              "      <td>1</td>\n",
              "    </tr>\n",
              "    <tr>\n",
              "      <th>17155</th>\n",
              "      <td>USC00207320</td>\n",
              "      <td>2005-01-01</td>\n",
              "      <td>TMIN</td>\n",
              "      <td>-1.1</td>\n",
              "      <td>1</td>\n",
              "      <td>2005</td>\n",
              "      <td>1</td>\n",
              "    </tr>\n",
              "    <tr>\n",
              "      <th>10079</th>\n",
              "      <td>USW00014833</td>\n",
              "      <td>2005-01-01</td>\n",
              "      <td>TMIN</td>\n",
              "      <td>-4.4</td>\n",
              "      <td>1</td>\n",
              "      <td>2005</td>\n",
              "      <td>1</td>\n",
              "    </tr>\n",
              "    <tr>\n",
              "      <th>2812</th>\n",
              "      <td>USC00203712</td>\n",
              "      <td>2005-01-01</td>\n",
              "      <td>TMIN</td>\n",
              "      <td>-5.0</td>\n",
              "      <td>1</td>\n",
              "      <td>2005</td>\n",
              "      <td>1</td>\n",
              "    </tr>\n",
              "    <tr>\n",
              "      <th>24805</th>\n",
              "      <td>USW00094889</td>\n",
              "      <td>2005-01-01</td>\n",
              "      <td>TMIN</td>\n",
              "      <td>-5.6</td>\n",
              "      <td>1</td>\n",
              "      <td>2005</td>\n",
              "      <td>1</td>\n",
              "    </tr>\n",
              "  </tbody>\n",
              "</table>\n",
              "</div>"
            ],
            "text/plain": [
              "                ID       Date Element  Data_Value  Month  Year  Day\n",
              "60995  USW00004848 2005-01-01    TMIN         0.0      1  2005    1\n",
              "17155  USC00207320 2005-01-01    TMIN        -1.1      1  2005    1\n",
              "10079  USW00014833 2005-01-01    TMIN        -4.4      1  2005    1\n",
              "2812   USC00203712 2005-01-01    TMIN        -5.0      1  2005    1\n",
              "24805  USW00094889 2005-01-01    TMIN        -5.6      1  2005    1"
            ]
          },
          "execution_count": 19,
          "metadata": {},
          "output_type": "execute_result"
        }
      ],
      "source": [
        "df_MIN['Month'] = df_MIN['Date'].apply(lambda x: x.month)\n",
        "df_MIN['Year'] = df_MIN['Date'].apply(lambda x: x.year)\n",
        "df_MIN['Day'] = df_MIN['Date'].apply(lambda x: x.day)\n",
        "\n",
        "df_MIN.head()"
      ]
    },
    {
      "cell_type": "code",
      "execution_count": null,
      "metadata": {
        "id": "4OdJxFGNZTtl"
      },
      "outputs": [],
      "source": [
        "df_TMIN = df_MIN"
      ]
    },
    {
      "cell_type": "code",
      "execution_count": null,
      "metadata": {
        "id": "ZmbFybBHZTtl",
        "outputId": "3956bdf8-0f52-406d-ec1a-024e7b9e349d"
      },
      "outputs": [
        {
          "data": {
            "text/plain": [
              "array([2008, 2012])"
            ]
          },
          "execution_count": 21,
          "metadata": {},
          "output_type": "execute_result"
        }
      ],
      "source": [
        "#Looking for year with 29th February\n",
        "np.unique(df_TMIN[(df_TMIN['Day'] == 29)&(df_TMIN['Month'] == 2)]['Year'])"
      ]
    },
    {
      "cell_type": "code",
      "execution_count": null,
      "metadata": {
        "id": "fCXnfe9zZTtl"
      },
      "outputs": [],
      "source": [
        "#Removing 29th February\n",
        "df_TMIN = df_TMIN[~ df_TMIN['Date'].isin(['2012-02-29','2008-02-29'])]"
      ]
    },
    {
      "cell_type": "code",
      "execution_count": null,
      "metadata": {
        "id": "vUCxqftiZTtl",
        "outputId": "88c3b354-a5e3-4980-c448-f2f35aee96bf"
      },
      "outputs": [
        {
          "name": "stdout",
          "output_type": "stream",
          "text": [
            "<class 'pandas.core.frame.DataFrame'>\n",
            "Int64Index: 81982 entries, 60995 to 29410\n",
            "Data columns (total 7 columns):\n",
            " #   Column      Non-Null Count  Dtype         \n",
            "---  ------      --------------  -----         \n",
            " 0   ID          81982 non-null  object        \n",
            " 1   Date        81982 non-null  datetime64[ns]\n",
            " 2   Element     81982 non-null  object        \n",
            " 3   Data_Value  81982 non-null  float64       \n",
            " 4   Month       81982 non-null  int64         \n",
            " 5   Year        81982 non-null  int64         \n",
            " 6   Day         81982 non-null  int64         \n",
            "dtypes: datetime64[ns](1), float64(1), int64(3), object(2)\n",
            "memory usage: 5.0+ MB\n"
          ]
        }
      ],
      "source": [
        "df_TMIN.info()"
      ]
    },
    {
      "cell_type": "code",
      "execution_count": null,
      "metadata": {
        "id": "7lKBLwLYZTtl",
        "outputId": "bb509e83-15cd-4256-86ef-e6a21a2cd13d"
      },
      "outputs": [
        {
          "data": {
            "text/html": [
              "<div>\n",
              "<style scoped>\n",
              "    .dataframe tbody tr th:only-of-type {\n",
              "        vertical-align: middle;\n",
              "    }\n",
              "\n",
              "    .dataframe tbody tr th {\n",
              "        vertical-align: top;\n",
              "    }\n",
              "\n",
              "    .dataframe thead th {\n",
              "        text-align: right;\n",
              "    }\n",
              "</style>\n",
              "<table border=\"1\" class=\"dataframe\">\n",
              "  <thead>\n",
              "    <tr style=\"text-align: right;\">\n",
              "      <th></th>\n",
              "      <th>ID</th>\n",
              "      <th>Date</th>\n",
              "      <th>Element</th>\n",
              "      <th>Data_Value</th>\n",
              "    </tr>\n",
              "  </thead>\n",
              "  <tbody>\n",
              "    <tr>\n",
              "      <th>17153</th>\n",
              "      <td>USC00207320</td>\n",
              "      <td>2005-01-01</td>\n",
              "      <td>TMAX</td>\n",
              "      <td>15.0</td>\n",
              "    </tr>\n",
              "    <tr>\n",
              "      <th>10073</th>\n",
              "      <td>USW00014833</td>\n",
              "      <td>2005-01-01</td>\n",
              "      <td>TMAX</td>\n",
              "      <td>3.3</td>\n",
              "    </tr>\n",
              "    <tr>\n",
              "      <th>60994</th>\n",
              "      <td>USW00004848</td>\n",
              "      <td>2005-01-01</td>\n",
              "      <td>TMAX</td>\n",
              "      <td>13.3</td>\n",
              "    </tr>\n",
              "    <tr>\n",
              "      <th>39454</th>\n",
              "      <td>USC00205563</td>\n",
              "      <td>2005-01-01</td>\n",
              "      <td>TMAX</td>\n",
              "      <td>2.8</td>\n",
              "    </tr>\n",
              "    <tr>\n",
              "      <th>18049</th>\n",
              "      <td>USW00014853</td>\n",
              "      <td>2005-01-01</td>\n",
              "      <td>TMAX</td>\n",
              "      <td>5.6</td>\n",
              "    </tr>\n",
              "  </tbody>\n",
              "</table>\n",
              "</div>"
            ],
            "text/plain": [
              "                ID       Date Element  Data_Value\n",
              "17153  USC00207320 2005-01-01    TMAX        15.0\n",
              "10073  USW00014833 2005-01-01    TMAX         3.3\n",
              "60994  USW00004848 2005-01-01    TMAX        13.3\n",
              "39454  USC00205563 2005-01-01    TMAX         2.8\n",
              "18049  USW00014853 2005-01-01    TMAX         5.6"
            ]
          },
          "execution_count": 24,
          "metadata": {},
          "output_type": "execute_result"
        }
      ],
      "source": [
        "#First I'll drop columns that are not needed anymore\n",
        "TMAX = df_TMAX.drop(['Day','Month','Year',], axis = 1)\n",
        "TMAX.head()"
      ]
    },
    {
      "cell_type": "code",
      "execution_count": null,
      "metadata": {
        "id": "BkjXLdmlZTtl",
        "outputId": "6db82933-ab14-4fb7-d88c-ec81975aa7d3"
      },
      "outputs": [
        {
          "data": {
            "text/html": [
              "<div>\n",
              "<style scoped>\n",
              "    .dataframe tbody tr th:only-of-type {\n",
              "        vertical-align: middle;\n",
              "    }\n",
              "\n",
              "    .dataframe tbody tr th {\n",
              "        vertical-align: top;\n",
              "    }\n",
              "\n",
              "    .dataframe thead th {\n",
              "        text-align: right;\n",
              "    }\n",
              "</style>\n",
              "<table border=\"1\" class=\"dataframe\">\n",
              "  <thead>\n",
              "    <tr style=\"text-align: right;\">\n",
              "      <th></th>\n",
              "      <th>ID</th>\n",
              "      <th>Element</th>\n",
              "      <th>Data_Value</th>\n",
              "    </tr>\n",
              "    <tr>\n",
              "      <th>Date</th>\n",
              "      <th></th>\n",
              "      <th></th>\n",
              "      <th></th>\n",
              "    </tr>\n",
              "  </thead>\n",
              "  <tbody>\n",
              "    <tr>\n",
              "      <th>2005-01-01</th>\n",
              "      <td>USW00094889</td>\n",
              "      <td>TMAX</td>\n",
              "      <td>15.6</td>\n",
              "    </tr>\n",
              "    <tr>\n",
              "      <th>2005-01-02</th>\n",
              "      <td>USW00094889</td>\n",
              "      <td>TMAX</td>\n",
              "      <td>13.9</td>\n",
              "    </tr>\n",
              "    <tr>\n",
              "      <th>2005-01-03</th>\n",
              "      <td>USW00094889</td>\n",
              "      <td>TMAX</td>\n",
              "      <td>13.3</td>\n",
              "    </tr>\n",
              "    <tr>\n",
              "      <th>2005-01-04</th>\n",
              "      <td>USW00094889</td>\n",
              "      <td>TMAX</td>\n",
              "      <td>3.9</td>\n",
              "    </tr>\n",
              "    <tr>\n",
              "      <th>2005-01-05</th>\n",
              "      <td>USW00094889</td>\n",
              "      <td>TMAX</td>\n",
              "      <td>3.3</td>\n",
              "    </tr>\n",
              "  </tbody>\n",
              "</table>\n",
              "</div>"
            ],
            "text/plain": [
              "                     ID Element  Data_Value\n",
              "Date                                       \n",
              "2005-01-01  USW00094889    TMAX        15.6\n",
              "2005-01-02  USW00094889    TMAX        13.9\n",
              "2005-01-03  USW00094889    TMAX        13.3\n",
              "2005-01-04  USW00094889    TMAX         3.9\n",
              "2005-01-05  USW00094889    TMAX         3.3"
            ]
          },
          "execution_count": 25,
          "metadata": {},
          "output_type": "execute_result"
        }
      ],
      "source": [
        "#Now I will group the TMAX df by date returning the maximum value for each date\n",
        "TMAX = TMAX.groupby(by='Date').max()\n",
        "TMAX.head()"
      ]
    },
    {
      "cell_type": "code",
      "execution_count": null,
      "metadata": {
        "id": "EoUYaDFXZTtl",
        "outputId": "99001240-5cfd-4490-e243-995e1fede2f0"
      },
      "outputs": [
        {
          "data": {
            "text/html": [
              "<div>\n",
              "<style scoped>\n",
              "    .dataframe tbody tr th:only-of-type {\n",
              "        vertical-align: middle;\n",
              "    }\n",
              "\n",
              "    .dataframe tbody tr th {\n",
              "        vertical-align: top;\n",
              "    }\n",
              "\n",
              "    .dataframe thead th {\n",
              "        text-align: right;\n",
              "    }\n",
              "</style>\n",
              "<table border=\"1\" class=\"dataframe\">\n",
              "  <thead>\n",
              "    <tr style=\"text-align: right;\">\n",
              "      <th></th>\n",
              "      <th>Date</th>\n",
              "      <th>ID</th>\n",
              "      <th>Element</th>\n",
              "      <th>Data_Value</th>\n",
              "    </tr>\n",
              "  </thead>\n",
              "  <tbody>\n",
              "    <tr>\n",
              "      <th>0</th>\n",
              "      <td>2005-01-01</td>\n",
              "      <td>USW00094889</td>\n",
              "      <td>TMAX</td>\n",
              "      <td>15.6</td>\n",
              "    </tr>\n",
              "    <tr>\n",
              "      <th>1</th>\n",
              "      <td>2005-01-02</td>\n",
              "      <td>USW00094889</td>\n",
              "      <td>TMAX</td>\n",
              "      <td>13.9</td>\n",
              "    </tr>\n",
              "    <tr>\n",
              "      <th>2</th>\n",
              "      <td>2005-01-03</td>\n",
              "      <td>USW00094889</td>\n",
              "      <td>TMAX</td>\n",
              "      <td>13.3</td>\n",
              "    </tr>\n",
              "    <tr>\n",
              "      <th>3</th>\n",
              "      <td>2005-01-04</td>\n",
              "      <td>USW00094889</td>\n",
              "      <td>TMAX</td>\n",
              "      <td>3.9</td>\n",
              "    </tr>\n",
              "    <tr>\n",
              "      <th>4</th>\n",
              "      <td>2005-01-05</td>\n",
              "      <td>USW00094889</td>\n",
              "      <td>TMAX</td>\n",
              "      <td>3.3</td>\n",
              "    </tr>\n",
              "  </tbody>\n",
              "</table>\n",
              "</div>"
            ],
            "text/plain": [
              "        Date           ID Element  Data_Value\n",
              "0 2005-01-01  USW00094889    TMAX        15.6\n",
              "1 2005-01-02  USW00094889    TMAX        13.9\n",
              "2 2005-01-03  USW00094889    TMAX        13.3\n",
              "3 2005-01-04  USW00094889    TMAX         3.9\n",
              "4 2005-01-05  USW00094889    TMAX         3.3"
            ]
          },
          "execution_count": 26,
          "metadata": {},
          "output_type": "execute_result"
        }
      ],
      "source": [
        "#Now I will reset the indexes\n",
        "TMAX = TMAX.reset_index(level=0)\n",
        "TMAX.head()"
      ]
    },
    {
      "cell_type": "code",
      "execution_count": null,
      "metadata": {
        "id": "p1g7AhGfZTtl",
        "outputId": "839c53dd-77ce-434d-e83a-ad8383d57941"
      },
      "outputs": [
        {
          "name": "stdout",
          "output_type": "stream",
          "text": [
            "<class 'pandas.core.frame.DataFrame'>\n",
            "RangeIndex: 4015 entries, 0 to 4014\n",
            "Data columns (total 4 columns):\n",
            " #   Column      Non-Null Count  Dtype         \n",
            "---  ------      --------------  -----         \n",
            " 0   Date        4015 non-null   datetime64[ns]\n",
            " 1   ID          4015 non-null   object        \n",
            " 2   Element     4015 non-null   object        \n",
            " 3   Data_Value  4015 non-null   float64       \n",
            "dtypes: datetime64[ns](1), float64(1), object(2)\n",
            "memory usage: 125.6+ KB\n"
          ]
        }
      ],
      "source": [
        "TMAX.info()"
      ]
    },
    {
      "cell_type": "code",
      "execution_count": null,
      "metadata": {
        "id": "D5dSNhcDZTtl",
        "outputId": "fade0835-e22e-4d92-c0d2-733b433ff685"
      },
      "outputs": [
        {
          "data": {
            "text/html": [
              "<div>\n",
              "<style scoped>\n",
              "    .dataframe tbody tr th:only-of-type {\n",
              "        vertical-align: middle;\n",
              "    }\n",
              "\n",
              "    .dataframe tbody tr th {\n",
              "        vertical-align: top;\n",
              "    }\n",
              "\n",
              "    .dataframe thead th {\n",
              "        text-align: right;\n",
              "    }\n",
              "</style>\n",
              "<table border=\"1\" class=\"dataframe\">\n",
              "  <thead>\n",
              "    <tr style=\"text-align: right;\">\n",
              "      <th></th>\n",
              "      <th>ID</th>\n",
              "      <th>Date</th>\n",
              "      <th>Element</th>\n",
              "      <th>Data_Value</th>\n",
              "    </tr>\n",
              "  </thead>\n",
              "  <tbody>\n",
              "    <tr>\n",
              "      <th>60995</th>\n",
              "      <td>USW00004848</td>\n",
              "      <td>2005-01-01</td>\n",
              "      <td>TMIN</td>\n",
              "      <td>0.0</td>\n",
              "    </tr>\n",
              "    <tr>\n",
              "      <th>17155</th>\n",
              "      <td>USC00207320</td>\n",
              "      <td>2005-01-01</td>\n",
              "      <td>TMIN</td>\n",
              "      <td>-1.1</td>\n",
              "    </tr>\n",
              "    <tr>\n",
              "      <th>10079</th>\n",
              "      <td>USW00014833</td>\n",
              "      <td>2005-01-01</td>\n",
              "      <td>TMIN</td>\n",
              "      <td>-4.4</td>\n",
              "    </tr>\n",
              "    <tr>\n",
              "      <th>2812</th>\n",
              "      <td>USC00203712</td>\n",
              "      <td>2005-01-01</td>\n",
              "      <td>TMIN</td>\n",
              "      <td>-5.0</td>\n",
              "    </tr>\n",
              "    <tr>\n",
              "      <th>24805</th>\n",
              "      <td>USW00094889</td>\n",
              "      <td>2005-01-01</td>\n",
              "      <td>TMIN</td>\n",
              "      <td>-5.6</td>\n",
              "    </tr>\n",
              "  </tbody>\n",
              "</table>\n",
              "</div>"
            ],
            "text/plain": [
              "                ID       Date Element  Data_Value\n",
              "60995  USW00004848 2005-01-01    TMIN         0.0\n",
              "17155  USC00207320 2005-01-01    TMIN        -1.1\n",
              "10079  USW00014833 2005-01-01    TMIN        -4.4\n",
              "2812   USC00203712 2005-01-01    TMIN        -5.0\n",
              "24805  USW00094889 2005-01-01    TMIN        -5.6"
            ]
          },
          "execution_count": 28,
          "metadata": {},
          "output_type": "execute_result"
        }
      ],
      "source": [
        "#First I'll drop columns that are not needed anymore\n",
        "TMIN = df_TMIN.drop(['Day','Month','Year',], axis = 1)\n",
        "TMIN.head()"
      ]
    },
    {
      "cell_type": "code",
      "execution_count": null,
      "metadata": {
        "id": "FbmSS8XsZTtl",
        "outputId": "ecf76a02-1933-4158-ddb8-4b0cf05eb9dc"
      },
      "outputs": [
        {
          "data": {
            "text/html": [
              "<div>\n",
              "<style scoped>\n",
              "    .dataframe tbody tr th:only-of-type {\n",
              "        vertical-align: middle;\n",
              "    }\n",
              "\n",
              "    .dataframe tbody tr th {\n",
              "        vertical-align: top;\n",
              "    }\n",
              "\n",
              "    .dataframe thead th {\n",
              "        text-align: right;\n",
              "    }\n",
              "</style>\n",
              "<table border=\"1\" class=\"dataframe\">\n",
              "  <thead>\n",
              "    <tr style=\"text-align: right;\">\n",
              "      <th></th>\n",
              "      <th>ID</th>\n",
              "      <th>Element</th>\n",
              "      <th>Data_Value</th>\n",
              "    </tr>\n",
              "    <tr>\n",
              "      <th>Date</th>\n",
              "      <th></th>\n",
              "      <th></th>\n",
              "      <th></th>\n",
              "    </tr>\n",
              "  </thead>\n",
              "  <tbody>\n",
              "    <tr>\n",
              "      <th>2005-01-01</th>\n",
              "      <td>USC00200032</td>\n",
              "      <td>TMIN</td>\n",
              "      <td>-5.6</td>\n",
              "    </tr>\n",
              "    <tr>\n",
              "      <th>2005-01-02</th>\n",
              "      <td>USC00200032</td>\n",
              "      <td>TMIN</td>\n",
              "      <td>-5.6</td>\n",
              "    </tr>\n",
              "    <tr>\n",
              "      <th>2005-01-03</th>\n",
              "      <td>USC00200032</td>\n",
              "      <td>TMIN</td>\n",
              "      <td>0.0</td>\n",
              "    </tr>\n",
              "    <tr>\n",
              "      <th>2005-01-04</th>\n",
              "      <td>USC00200032</td>\n",
              "      <td>TMIN</td>\n",
              "      <td>-3.9</td>\n",
              "    </tr>\n",
              "    <tr>\n",
              "      <th>2005-01-05</th>\n",
              "      <td>USC00200032</td>\n",
              "      <td>TMIN</td>\n",
              "      <td>-9.4</td>\n",
              "    </tr>\n",
              "  </tbody>\n",
              "</table>\n",
              "</div>"
            ],
            "text/plain": [
              "                     ID Element  Data_Value\n",
              "Date                                       \n",
              "2005-01-01  USC00200032    TMIN        -5.6\n",
              "2005-01-02  USC00200032    TMIN        -5.6\n",
              "2005-01-03  USC00200032    TMIN         0.0\n",
              "2005-01-04  USC00200032    TMIN        -3.9\n",
              "2005-01-05  USC00200032    TMIN        -9.4"
            ]
          },
          "execution_count": 29,
          "metadata": {},
          "output_type": "execute_result"
        }
      ],
      "source": [
        "#Now I will group the TMIN df by date returning the minimum value for each date\n",
        "TMIN = TMIN.groupby(by='Date').min()\n",
        "TMIN.head()"
      ]
    },
    {
      "cell_type": "code",
      "execution_count": null,
      "metadata": {
        "id": "smmyzO-fZTtm",
        "outputId": "bbf6c0e4-f8a7-48a5-a895-2977ff1d7245"
      },
      "outputs": [
        {
          "data": {
            "text/html": [
              "<div>\n",
              "<style scoped>\n",
              "    .dataframe tbody tr th:only-of-type {\n",
              "        vertical-align: middle;\n",
              "    }\n",
              "\n",
              "    .dataframe tbody tr th {\n",
              "        vertical-align: top;\n",
              "    }\n",
              "\n",
              "    .dataframe thead th {\n",
              "        text-align: right;\n",
              "    }\n",
              "</style>\n",
              "<table border=\"1\" class=\"dataframe\">\n",
              "  <thead>\n",
              "    <tr style=\"text-align: right;\">\n",
              "      <th></th>\n",
              "      <th>Date</th>\n",
              "      <th>ID</th>\n",
              "      <th>Element</th>\n",
              "      <th>Data_Value</th>\n",
              "    </tr>\n",
              "  </thead>\n",
              "  <tbody>\n",
              "    <tr>\n",
              "      <th>0</th>\n",
              "      <td>2005-01-01</td>\n",
              "      <td>USC00200032</td>\n",
              "      <td>TMIN</td>\n",
              "      <td>-5.6</td>\n",
              "    </tr>\n",
              "    <tr>\n",
              "      <th>1</th>\n",
              "      <td>2005-01-02</td>\n",
              "      <td>USC00200032</td>\n",
              "      <td>TMIN</td>\n",
              "      <td>-5.6</td>\n",
              "    </tr>\n",
              "    <tr>\n",
              "      <th>2</th>\n",
              "      <td>2005-01-03</td>\n",
              "      <td>USC00200032</td>\n",
              "      <td>TMIN</td>\n",
              "      <td>0.0</td>\n",
              "    </tr>\n",
              "    <tr>\n",
              "      <th>3</th>\n",
              "      <td>2005-01-04</td>\n",
              "      <td>USC00200032</td>\n",
              "      <td>TMIN</td>\n",
              "      <td>-3.9</td>\n",
              "    </tr>\n",
              "    <tr>\n",
              "      <th>4</th>\n",
              "      <td>2005-01-05</td>\n",
              "      <td>USC00200032</td>\n",
              "      <td>TMIN</td>\n",
              "      <td>-9.4</td>\n",
              "    </tr>\n",
              "  </tbody>\n",
              "</table>\n",
              "</div>"
            ],
            "text/plain": [
              "        Date           ID Element  Data_Value\n",
              "0 2005-01-01  USC00200032    TMIN        -5.6\n",
              "1 2005-01-02  USC00200032    TMIN        -5.6\n",
              "2 2005-01-03  USC00200032    TMIN         0.0\n",
              "3 2005-01-04  USC00200032    TMIN        -3.9\n",
              "4 2005-01-05  USC00200032    TMIN        -9.4"
            ]
          },
          "execution_count": 30,
          "metadata": {},
          "output_type": "execute_result"
        }
      ],
      "source": [
        "#Now I will reset the indexes\n",
        "TMIN = TMIN.reset_index(level=0)\n",
        "TMIN.head()"
      ]
    },
    {
      "cell_type": "code",
      "execution_count": null,
      "metadata": {
        "id": "XlcZrAK0ZTtm",
        "outputId": "3609d441-66d0-4b90-c079-bb32fd24d959"
      },
      "outputs": [
        {
          "name": "stdout",
          "output_type": "stream",
          "text": [
            "<class 'pandas.core.frame.DataFrame'>\n",
            "RangeIndex: 4015 entries, 0 to 4014\n",
            "Data columns (total 4 columns):\n",
            " #   Column      Non-Null Count  Dtype         \n",
            "---  ------      --------------  -----         \n",
            " 0   Date        4015 non-null   datetime64[ns]\n",
            " 1   ID          4015 non-null   object        \n",
            " 2   Element     4015 non-null   object        \n",
            " 3   Data_Value  4015 non-null   float64       \n",
            "dtypes: datetime64[ns](1), float64(1), object(2)\n",
            "memory usage: 125.6+ KB\n"
          ]
        }
      ],
      "source": [
        "TMIN.info()"
      ]
    },
    {
      "cell_type": "markdown",
      "metadata": {
        "deletable": false,
        "editable": false,
        "nbgrader": {
          "cell_type": "markdown",
          "checksum": "0edac9c92f1b79eb9b21f302a3259c5e",
          "grade": false,
          "grade_id": "cell-d3a1a2647a47fe31",
          "locked": true,
          "schema_version": 3,
          "solution": false,
          "task": false
        },
        "id": "zUdKjCxvZTtm"
      },
      "source": [
        "## Step 3\n",
        "Now that you have grouped the daily max and min temperatures for each day of the years 2005 through 2015, you can separate out the data for 2015. Then you can use the Pandas `groupby` function to find the max and min of the temperature data for each __day of the year__ for the 2005-2014 data.\n",
        "\n",
        "__hint: at the end of this step I had two DataFrames, one of maximum and the other of minimum values, which each had 365 observations in them. I also had another pair of similar DataFrames but only for the year 2015.__"
      ]
    },
    {
      "cell_type": "code",
      "execution_count": null,
      "metadata": {
        "deletable": false,
        "editable": false,
        "nbgrader": {
          "cell_type": "code",
          "checksum": "d7ce1a83f103169e62bd8ae69cce9f99",
          "grade": false,
          "grade_id": "cell-0d7d2d56caf3d4e8",
          "locked": true,
          "schema_version": 3,
          "solution": false,
          "task": false
        },
        "id": "NdLxF83cZTtm"
      },
      "outputs": [],
      "source": [
        "# calculate the minimum and maximum values for the day of the year for 2005 through 2014\n",
        "\n",
        "# calculate the minimum and maximum values for the years 2015"
      ]
    },
    {
      "cell_type": "code",
      "execution_count": null,
      "metadata": {
        "id": "Ibzh09HZZTtm",
        "outputId": "021836e2-acac-40ef-982c-72694325b7f6"
      },
      "outputs": [
        {
          "data": {
            "text/html": [
              "<div>\n",
              "<style scoped>\n",
              "    .dataframe tbody tr th:only-of-type {\n",
              "        vertical-align: middle;\n",
              "    }\n",
              "\n",
              "    .dataframe tbody tr th {\n",
              "        vertical-align: top;\n",
              "    }\n",
              "\n",
              "    .dataframe thead th {\n",
              "        text-align: right;\n",
              "    }\n",
              "</style>\n",
              "<table border=\"1\" class=\"dataframe\">\n",
              "  <thead>\n",
              "    <tr style=\"text-align: right;\">\n",
              "      <th></th>\n",
              "      <th>Date</th>\n",
              "      <th>ID_x</th>\n",
              "      <th>Element_x</th>\n",
              "      <th>Data_Value_x</th>\n",
              "      <th>ID_y</th>\n",
              "      <th>Element_y</th>\n",
              "      <th>Data_Value_y</th>\n",
              "    </tr>\n",
              "  </thead>\n",
              "  <tbody>\n",
              "    <tr>\n",
              "      <th>0</th>\n",
              "      <td>2005-01-01</td>\n",
              "      <td>USW00094889</td>\n",
              "      <td>TMAX</td>\n",
              "      <td>15.6</td>\n",
              "      <td>USC00200032</td>\n",
              "      <td>TMIN</td>\n",
              "      <td>-5.6</td>\n",
              "    </tr>\n",
              "    <tr>\n",
              "      <th>1</th>\n",
              "      <td>2005-01-02</td>\n",
              "      <td>USW00094889</td>\n",
              "      <td>TMAX</td>\n",
              "      <td>13.9</td>\n",
              "      <td>USC00200032</td>\n",
              "      <td>TMIN</td>\n",
              "      <td>-5.6</td>\n",
              "    </tr>\n",
              "    <tr>\n",
              "      <th>2</th>\n",
              "      <td>2005-01-03</td>\n",
              "      <td>USW00094889</td>\n",
              "      <td>TMAX</td>\n",
              "      <td>13.3</td>\n",
              "      <td>USC00200032</td>\n",
              "      <td>TMIN</td>\n",
              "      <td>0.0</td>\n",
              "    </tr>\n",
              "    <tr>\n",
              "      <th>3</th>\n",
              "      <td>2005-01-04</td>\n",
              "      <td>USW00094889</td>\n",
              "      <td>TMAX</td>\n",
              "      <td>3.9</td>\n",
              "      <td>USC00200032</td>\n",
              "      <td>TMIN</td>\n",
              "      <td>-3.9</td>\n",
              "    </tr>\n",
              "    <tr>\n",
              "      <th>4</th>\n",
              "      <td>2005-01-05</td>\n",
              "      <td>USW00094889</td>\n",
              "      <td>TMAX</td>\n",
              "      <td>3.3</td>\n",
              "      <td>USC00200032</td>\n",
              "      <td>TMIN</td>\n",
              "      <td>-9.4</td>\n",
              "    </tr>\n",
              "  </tbody>\n",
              "</table>\n",
              "</div>"
            ],
            "text/plain": [
              "        Date         ID_x Element_x  Data_Value_x         ID_y Element_y  \\\n",
              "0 2005-01-01  USW00094889      TMAX          15.6  USC00200032      TMIN   \n",
              "1 2005-01-02  USW00094889      TMAX          13.9  USC00200032      TMIN   \n",
              "2 2005-01-03  USW00094889      TMAX          13.3  USC00200032      TMIN   \n",
              "3 2005-01-04  USW00094889      TMAX           3.9  USC00200032      TMIN   \n",
              "4 2005-01-05  USW00094889      TMAX           3.3  USC00200032      TMIN   \n",
              "\n",
              "   Data_Value_y  \n",
              "0          -5.6  \n",
              "1          -5.6  \n",
              "2           0.0  \n",
              "3          -3.9  \n",
              "4          -9.4  "
            ]
          },
          "execution_count": 33,
          "metadata": {},
          "output_type": "execute_result"
        }
      ],
      "source": [
        "#Merging the dataframes using the Date column\n",
        "TMAX_TMIN = TMAX.merge(TMIN, on ='Date')\n",
        "TMAX_TMIN.head()"
      ]
    },
    {
      "cell_type": "code",
      "execution_count": null,
      "metadata": {
        "id": "WA2B-jQHZTtm",
        "outputId": "04616adf-bd3b-4f96-e2ca-341a5596acef"
      },
      "outputs": [
        {
          "data": {
            "text/html": [
              "<div>\n",
              "<style scoped>\n",
              "    .dataframe tbody tr th:only-of-type {\n",
              "        vertical-align: middle;\n",
              "    }\n",
              "\n",
              "    .dataframe tbody tr th {\n",
              "        vertical-align: top;\n",
              "    }\n",
              "\n",
              "    .dataframe thead th {\n",
              "        text-align: right;\n",
              "    }\n",
              "</style>\n",
              "<table border=\"1\" class=\"dataframe\">\n",
              "  <thead>\n",
              "    <tr style=\"text-align: right;\">\n",
              "      <th></th>\n",
              "      <th>Date</th>\n",
              "      <th>TMAX_ID</th>\n",
              "      <th>TMAX_Element</th>\n",
              "      <th>TMAX</th>\n",
              "      <th>TMIN_ID</th>\n",
              "      <th>TMIN_Element</th>\n",
              "      <th>TMIN</th>\n",
              "    </tr>\n",
              "  </thead>\n",
              "  <tbody>\n",
              "    <tr>\n",
              "      <th>0</th>\n",
              "      <td>2005-01-01</td>\n",
              "      <td>USW00094889</td>\n",
              "      <td>TMAX</td>\n",
              "      <td>15.6</td>\n",
              "      <td>USC00200032</td>\n",
              "      <td>TMIN</td>\n",
              "      <td>-5.6</td>\n",
              "    </tr>\n",
              "    <tr>\n",
              "      <th>1</th>\n",
              "      <td>2005-01-02</td>\n",
              "      <td>USW00094889</td>\n",
              "      <td>TMAX</td>\n",
              "      <td>13.9</td>\n",
              "      <td>USC00200032</td>\n",
              "      <td>TMIN</td>\n",
              "      <td>-5.6</td>\n",
              "    </tr>\n",
              "    <tr>\n",
              "      <th>2</th>\n",
              "      <td>2005-01-03</td>\n",
              "      <td>USW00094889</td>\n",
              "      <td>TMAX</td>\n",
              "      <td>13.3</td>\n",
              "      <td>USC00200032</td>\n",
              "      <td>TMIN</td>\n",
              "      <td>0.0</td>\n",
              "    </tr>\n",
              "    <tr>\n",
              "      <th>3</th>\n",
              "      <td>2005-01-04</td>\n",
              "      <td>USW00094889</td>\n",
              "      <td>TMAX</td>\n",
              "      <td>3.9</td>\n",
              "      <td>USC00200032</td>\n",
              "      <td>TMIN</td>\n",
              "      <td>-3.9</td>\n",
              "    </tr>\n",
              "    <tr>\n",
              "      <th>4</th>\n",
              "      <td>2005-01-05</td>\n",
              "      <td>USW00094889</td>\n",
              "      <td>TMAX</td>\n",
              "      <td>3.3</td>\n",
              "      <td>USC00200032</td>\n",
              "      <td>TMIN</td>\n",
              "      <td>-9.4</td>\n",
              "    </tr>\n",
              "  </tbody>\n",
              "</table>\n",
              "</div>"
            ],
            "text/plain": [
              "        Date      TMAX_ID TMAX_Element  TMAX      TMIN_ID TMIN_Element  TMIN\n",
              "0 2005-01-01  USW00094889         TMAX  15.6  USC00200032         TMIN  -5.6\n",
              "1 2005-01-02  USW00094889         TMAX  13.9  USC00200032         TMIN  -5.6\n",
              "2 2005-01-03  USW00094889         TMAX  13.3  USC00200032         TMIN   0.0\n",
              "3 2005-01-04  USW00094889         TMAX   3.9  USC00200032         TMIN  -3.9\n",
              "4 2005-01-05  USW00094889         TMAX   3.3  USC00200032         TMIN  -9.4"
            ]
          },
          "execution_count": 34,
          "metadata": {},
          "output_type": "execute_result"
        }
      ],
      "source": [
        "#Renaming the columns\n",
        "TMAX_TMIN.rename(columns = {\n",
        "    'ID_x':'TMAX_ID',\n",
        "    'Element_x':'TMAX_Element',\n",
        "    'Data_Value_x':'TMAX',\n",
        "    'ID_y':'TMIN_ID',\n",
        "    'Element_y':'TMIN_Element',\n",
        "    'Data_Value_y':'TMIN'}, inplace = True)\n",
        "\n",
        "TMAX_TMIN.head()"
      ]
    },
    {
      "cell_type": "code",
      "execution_count": null,
      "metadata": {
        "id": "XVsuZw6pZTtm",
        "outputId": "2272709c-435e-4e9d-8f94-e5e0e5a206f2"
      },
      "outputs": [
        {
          "data": {
            "text/html": [
              "<div>\n",
              "<style scoped>\n",
              "    .dataframe tbody tr th:only-of-type {\n",
              "        vertical-align: middle;\n",
              "    }\n",
              "\n",
              "    .dataframe tbody tr th {\n",
              "        vertical-align: top;\n",
              "    }\n",
              "\n",
              "    .dataframe thead th {\n",
              "        text-align: right;\n",
              "    }\n",
              "</style>\n",
              "<table border=\"1\" class=\"dataframe\">\n",
              "  <thead>\n",
              "    <tr style=\"text-align: right;\">\n",
              "      <th></th>\n",
              "      <th>Date</th>\n",
              "      <th>TMAX</th>\n",
              "      <th>TMIN</th>\n",
              "    </tr>\n",
              "  </thead>\n",
              "  <tbody>\n",
              "    <tr>\n",
              "      <th>0</th>\n",
              "      <td>2005-01-01</td>\n",
              "      <td>15.6</td>\n",
              "      <td>-5.6</td>\n",
              "    </tr>\n",
              "    <tr>\n",
              "      <th>1</th>\n",
              "      <td>2005-01-02</td>\n",
              "      <td>13.9</td>\n",
              "      <td>-5.6</td>\n",
              "    </tr>\n",
              "    <tr>\n",
              "      <th>2</th>\n",
              "      <td>2005-01-03</td>\n",
              "      <td>13.3</td>\n",
              "      <td>0.0</td>\n",
              "    </tr>\n",
              "    <tr>\n",
              "      <th>3</th>\n",
              "      <td>2005-01-04</td>\n",
              "      <td>3.9</td>\n",
              "      <td>-3.9</td>\n",
              "    </tr>\n",
              "    <tr>\n",
              "      <th>4</th>\n",
              "      <td>2005-01-05</td>\n",
              "      <td>3.3</td>\n",
              "      <td>-9.4</td>\n",
              "    </tr>\n",
              "  </tbody>\n",
              "</table>\n",
              "</div>"
            ],
            "text/plain": [
              "        Date  TMAX  TMIN\n",
              "0 2005-01-01  15.6  -5.6\n",
              "1 2005-01-02  13.9  -5.6\n",
              "2 2005-01-03  13.3   0.0\n",
              "3 2005-01-04   3.9  -3.9\n",
              "4 2005-01-05   3.3  -9.4"
            ]
          },
          "execution_count": 35,
          "metadata": {},
          "output_type": "execute_result"
        }
      ],
      "source": [
        "#Dropping Element and ID columns as they are not needed anymore\n",
        "TMAX_TMIN = TMAX_TMIN.drop(['TMAX_Element','TMIN_Element','TMAX_ID','TMIN_ID'], axis = 1)\n",
        "TMAX_TMIN.head()"
      ]
    },
    {
      "cell_type": "code",
      "execution_count": null,
      "metadata": {
        "id": "C91aLjavZTtm",
        "outputId": "e1386a79-96bd-493f-a278-9acb6934f9f9"
      },
      "outputs": [
        {
          "name": "stdout",
          "output_type": "stream",
          "text": [
            "<class 'pandas.core.frame.DataFrame'>\n",
            "Int64Index: 4015 entries, 0 to 4014\n",
            "Data columns (total 3 columns):\n",
            " #   Column  Non-Null Count  Dtype         \n",
            "---  ------  --------------  -----         \n",
            " 0   Date    4015 non-null   datetime64[ns]\n",
            " 1   TMAX    4015 non-null   float64       \n",
            " 2   TMIN    4015 non-null   float64       \n",
            "dtypes: datetime64[ns](1), float64(2)\n",
            "memory usage: 125.5 KB\n"
          ]
        }
      ],
      "source": [
        "TMAX_TMIN.info()"
      ]
    },
    {
      "cell_type": "code",
      "execution_count": null,
      "metadata": {
        "id": "OfGwktiVZTtm",
        "outputId": "2f69e451-e5c0-40a7-aebe-8d3a965de0c6"
      },
      "outputs": [
        {
          "data": {
            "text/html": [
              "<div>\n",
              "<style scoped>\n",
              "    .dataframe tbody tr th:only-of-type {\n",
              "        vertical-align: middle;\n",
              "    }\n",
              "\n",
              "    .dataframe tbody tr th {\n",
              "        vertical-align: top;\n",
              "    }\n",
              "\n",
              "    .dataframe thead th {\n",
              "        text-align: right;\n",
              "    }\n",
              "</style>\n",
              "<table border=\"1\" class=\"dataframe\">\n",
              "  <thead>\n",
              "    <tr style=\"text-align: right;\">\n",
              "      <th></th>\n",
              "      <th>Date</th>\n",
              "      <th>TMAX</th>\n",
              "      <th>TMIN</th>\n",
              "      <th>Month</th>\n",
              "      <th>Year</th>\n",
              "      <th>Day</th>\n",
              "    </tr>\n",
              "  </thead>\n",
              "  <tbody>\n",
              "    <tr>\n",
              "      <th>0</th>\n",
              "      <td>2005-01-01</td>\n",
              "      <td>15.6</td>\n",
              "      <td>-5.6</td>\n",
              "      <td>1</td>\n",
              "      <td>2005</td>\n",
              "      <td>1</td>\n",
              "    </tr>\n",
              "    <tr>\n",
              "      <th>1</th>\n",
              "      <td>2005-01-02</td>\n",
              "      <td>13.9</td>\n",
              "      <td>-5.6</td>\n",
              "      <td>1</td>\n",
              "      <td>2005</td>\n",
              "      <td>2</td>\n",
              "    </tr>\n",
              "    <tr>\n",
              "      <th>2</th>\n",
              "      <td>2005-01-03</td>\n",
              "      <td>13.3</td>\n",
              "      <td>0.0</td>\n",
              "      <td>1</td>\n",
              "      <td>2005</td>\n",
              "      <td>3</td>\n",
              "    </tr>\n",
              "    <tr>\n",
              "      <th>3</th>\n",
              "      <td>2005-01-04</td>\n",
              "      <td>3.9</td>\n",
              "      <td>-3.9</td>\n",
              "      <td>1</td>\n",
              "      <td>2005</td>\n",
              "      <td>4</td>\n",
              "    </tr>\n",
              "    <tr>\n",
              "      <th>4</th>\n",
              "      <td>2005-01-05</td>\n",
              "      <td>3.3</td>\n",
              "      <td>-9.4</td>\n",
              "      <td>1</td>\n",
              "      <td>2005</td>\n",
              "      <td>5</td>\n",
              "    </tr>\n",
              "  </tbody>\n",
              "</table>\n",
              "</div>"
            ],
            "text/plain": [
              "        Date  TMAX  TMIN  Month  Year  Day\n",
              "0 2005-01-01  15.6  -5.6      1  2005    1\n",
              "1 2005-01-02  13.9  -5.6      1  2005    2\n",
              "2 2005-01-03  13.3   0.0      1  2005    3\n",
              "3 2005-01-04   3.9  -3.9      1  2005    4\n",
              "4 2005-01-05   3.3  -9.4      1  2005    5"
            ]
          },
          "execution_count": 37,
          "metadata": {},
          "output_type": "execute_result"
        }
      ],
      "source": [
        "#Creating month,year and day columns again\n",
        "TMAX_TMIN['Month'] = TMAX_TMIN['Date'].apply(lambda x: x.month)\n",
        "TMAX_TMIN['Year'] = TMAX_TMIN['Date'].apply(lambda x: x.year)\n",
        "TMAX_TMIN['Day'] = TMAX_TMIN['Date'].apply(lambda x: x.day)\n",
        "\n",
        "TMAX_TMIN.head()"
      ]
    },
    {
      "cell_type": "code",
      "execution_count": null,
      "metadata": {
        "id": "iksQ-xERZTtm",
        "outputId": "3013c8c0-024d-4de9-fc5e-d7c77c0568ce"
      },
      "outputs": [
        {
          "data": {
            "text/html": [
              "<div>\n",
              "<style scoped>\n",
              "    .dataframe tbody tr th:only-of-type {\n",
              "        vertical-align: middle;\n",
              "    }\n",
              "\n",
              "    .dataframe tbody tr th {\n",
              "        vertical-align: top;\n",
              "    }\n",
              "\n",
              "    .dataframe thead th {\n",
              "        text-align: right;\n",
              "    }\n",
              "</style>\n",
              "<table border=\"1\" class=\"dataframe\">\n",
              "  <thead>\n",
              "    <tr style=\"text-align: right;\">\n",
              "      <th></th>\n",
              "      <th>Date</th>\n",
              "      <th>TMAX</th>\n",
              "      <th>TMIN</th>\n",
              "      <th>Month</th>\n",
              "      <th>Year</th>\n",
              "      <th>Day</th>\n",
              "    </tr>\n",
              "  </thead>\n",
              "  <tbody>\n",
              "    <tr>\n",
              "      <th>3645</th>\n",
              "      <td>2014-12-27</td>\n",
              "      <td>11.1</td>\n",
              "      <td>-2.8</td>\n",
              "      <td>12</td>\n",
              "      <td>2014</td>\n",
              "      <td>27</td>\n",
              "    </tr>\n",
              "    <tr>\n",
              "      <th>3646</th>\n",
              "      <td>2014-12-28</td>\n",
              "      <td>13.3</td>\n",
              "      <td>-6.0</td>\n",
              "      <td>12</td>\n",
              "      <td>2014</td>\n",
              "      <td>28</td>\n",
              "    </tr>\n",
              "    <tr>\n",
              "      <th>3647</th>\n",
              "      <td>2014-12-29</td>\n",
              "      <td>8.9</td>\n",
              "      <td>-11.0</td>\n",
              "      <td>12</td>\n",
              "      <td>2014</td>\n",
              "      <td>29</td>\n",
              "    </tr>\n",
              "    <tr>\n",
              "      <th>3648</th>\n",
              "      <td>2014-12-30</td>\n",
              "      <td>3.3</td>\n",
              "      <td>-11.1</td>\n",
              "      <td>12</td>\n",
              "      <td>2014</td>\n",
              "      <td>30</td>\n",
              "    </tr>\n",
              "    <tr>\n",
              "      <th>3649</th>\n",
              "      <td>2014-12-31</td>\n",
              "      <td>-2.8</td>\n",
              "      <td>-13.8</td>\n",
              "      <td>12</td>\n",
              "      <td>2014</td>\n",
              "      <td>31</td>\n",
              "    </tr>\n",
              "  </tbody>\n",
              "</table>\n",
              "</div>"
            ],
            "text/plain": [
              "           Date  TMAX  TMIN  Month  Year  Day\n",
              "3645 2014-12-27  11.1  -2.8     12  2014   27\n",
              "3646 2014-12-28  13.3  -6.0     12  2014   28\n",
              "3647 2014-12-29   8.9 -11.0     12  2014   29\n",
              "3648 2014-12-30   3.3 -11.1     12  2014   30\n",
              "3649 2014-12-31  -2.8 -13.8     12  2014   31"
            ]
          },
          "execution_count": 38,
          "metadata": {},
          "output_type": "execute_result"
        }
      ],
      "source": [
        "#Creating 2005-2014 records dataframe\n",
        "records_05_14 = TMAX_TMIN[TMAX_TMIN['Year'] !=2015]\n",
        "records_05_14.tail()"
      ]
    },
    {
      "cell_type": "code",
      "execution_count": null,
      "metadata": {
        "id": "AOAo2CK5ZTtm",
        "outputId": "0fab158c-fb50-4b6e-aa6d-b238310b3698"
      },
      "outputs": [
        {
          "data": {
            "text/html": [
              "<div>\n",
              "<style scoped>\n",
              "    .dataframe tbody tr th:only-of-type {\n",
              "        vertical-align: middle;\n",
              "    }\n",
              "\n",
              "    .dataframe tbody tr th {\n",
              "        vertical-align: top;\n",
              "    }\n",
              "\n",
              "    .dataframe thead th {\n",
              "        text-align: right;\n",
              "    }\n",
              "</style>\n",
              "<table border=\"1\" class=\"dataframe\">\n",
              "  <thead>\n",
              "    <tr style=\"text-align: right;\">\n",
              "      <th></th>\n",
              "      <th></th>\n",
              "      <th>TMAX</th>\n",
              "      <th>TMIN</th>\n",
              "    </tr>\n",
              "    <tr>\n",
              "      <th>Month</th>\n",
              "      <th>Day</th>\n",
              "      <th></th>\n",
              "      <th></th>\n",
              "    </tr>\n",
              "  </thead>\n",
              "  <tbody>\n",
              "    <tr>\n",
              "      <th rowspan=\"5\" valign=\"top\">1</th>\n",
              "      <th>1</th>\n",
              "      <td>15.6</td>\n",
              "      <td>-16.0</td>\n",
              "    </tr>\n",
              "    <tr>\n",
              "      <th>2</th>\n",
              "      <td>13.9</td>\n",
              "      <td>-26.7</td>\n",
              "    </tr>\n",
              "    <tr>\n",
              "      <th>3</th>\n",
              "      <td>13.3</td>\n",
              "      <td>-26.7</td>\n",
              "    </tr>\n",
              "    <tr>\n",
              "      <th>4</th>\n",
              "      <td>10.6</td>\n",
              "      <td>-26.1</td>\n",
              "    </tr>\n",
              "    <tr>\n",
              "      <th>5</th>\n",
              "      <td>12.8</td>\n",
              "      <td>-15.0</td>\n",
              "    </tr>\n",
              "  </tbody>\n",
              "</table>\n",
              "</div>"
            ],
            "text/plain": [
              "           TMAX  TMIN\n",
              "Month Day            \n",
              "1     1    15.6 -16.0\n",
              "      2    13.9 -26.7\n",
              "      3    13.3 -26.7\n",
              "      4    10.6 -26.1\n",
              "      5    12.8 -15.0"
            ]
          },
          "execution_count": 39,
          "metadata": {},
          "output_type": "execute_result"
        }
      ],
      "source": [
        "#Returning the max and minimum temperatures for each day of the year\n",
        "records_05_14 = records_05_14.groupby(['Month','Day']).agg({'TMAX' : 'max', 'TMIN' : 'min'})\n",
        "records_05_14.head()"
      ]
    },
    {
      "cell_type": "code",
      "execution_count": null,
      "metadata": {
        "id": "Q8LKv0Q3ZTtm",
        "outputId": "d0794c0e-fc45-4593-ca4b-7e2e9de0c1a7"
      },
      "outputs": [
        {
          "data": {
            "text/html": [
              "<div>\n",
              "<style scoped>\n",
              "    .dataframe tbody tr th:only-of-type {\n",
              "        vertical-align: middle;\n",
              "    }\n",
              "\n",
              "    .dataframe tbody tr th {\n",
              "        vertical-align: top;\n",
              "    }\n",
              "\n",
              "    .dataframe thead th {\n",
              "        text-align: right;\n",
              "    }\n",
              "</style>\n",
              "<table border=\"1\" class=\"dataframe\">\n",
              "  <thead>\n",
              "    <tr style=\"text-align: right;\">\n",
              "      <th></th>\n",
              "      <th>Month</th>\n",
              "      <th>TMAX</th>\n",
              "      <th>TMIN</th>\n",
              "    </tr>\n",
              "    <tr>\n",
              "      <th>Day</th>\n",
              "      <th></th>\n",
              "      <th></th>\n",
              "      <th></th>\n",
              "    </tr>\n",
              "  </thead>\n",
              "  <tbody>\n",
              "    <tr>\n",
              "      <th>1</th>\n",
              "      <td>1</td>\n",
              "      <td>15.6</td>\n",
              "      <td>-16.0</td>\n",
              "    </tr>\n",
              "    <tr>\n",
              "      <th>2</th>\n",
              "      <td>1</td>\n",
              "      <td>13.9</td>\n",
              "      <td>-26.7</td>\n",
              "    </tr>\n",
              "    <tr>\n",
              "      <th>3</th>\n",
              "      <td>1</td>\n",
              "      <td>13.3</td>\n",
              "      <td>-26.7</td>\n",
              "    </tr>\n",
              "    <tr>\n",
              "      <th>4</th>\n",
              "      <td>1</td>\n",
              "      <td>10.6</td>\n",
              "      <td>-26.1</td>\n",
              "    </tr>\n",
              "    <tr>\n",
              "      <th>5</th>\n",
              "      <td>1</td>\n",
              "      <td>12.8</td>\n",
              "      <td>-15.0</td>\n",
              "    </tr>\n",
              "  </tbody>\n",
              "</table>\n",
              "</div>"
            ],
            "text/plain": [
              "     Month  TMAX  TMIN\n",
              "Day                   \n",
              "1        1  15.6 -16.0\n",
              "2        1  13.9 -26.7\n",
              "3        1  13.3 -26.7\n",
              "4        1  10.6 -26.1\n",
              "5        1  12.8 -15.0"
            ]
          },
          "execution_count": 40,
          "metadata": {},
          "output_type": "execute_result"
        }
      ],
      "source": [
        "#Now I will reset the indexes\n",
        "records_05_14 = records_05_14.reset_index(level=0)\n",
        "records_05_14.head()"
      ]
    },
    {
      "cell_type": "code",
      "execution_count": null,
      "metadata": {
        "id": "XLChE4oDZTtm",
        "outputId": "8f263b4b-dd1f-4ebe-e7bf-cd190507d97d"
      },
      "outputs": [
        {
          "data": {
            "text/html": [
              "<div>\n",
              "<style scoped>\n",
              "    .dataframe tbody tr th:only-of-type {\n",
              "        vertical-align: middle;\n",
              "    }\n",
              "\n",
              "    .dataframe tbody tr th {\n",
              "        vertical-align: top;\n",
              "    }\n",
              "\n",
              "    .dataframe thead th {\n",
              "        text-align: right;\n",
              "    }\n",
              "</style>\n",
              "<table border=\"1\" class=\"dataframe\">\n",
              "  <thead>\n",
              "    <tr style=\"text-align: right;\">\n",
              "      <th></th>\n",
              "      <th>Day</th>\n",
              "      <th>Month</th>\n",
              "      <th>TMAX</th>\n",
              "      <th>TMIN</th>\n",
              "    </tr>\n",
              "  </thead>\n",
              "  <tbody>\n",
              "    <tr>\n",
              "      <th>0</th>\n",
              "      <td>1</td>\n",
              "      <td>1</td>\n",
              "      <td>15.6</td>\n",
              "      <td>-16.0</td>\n",
              "    </tr>\n",
              "    <tr>\n",
              "      <th>1</th>\n",
              "      <td>2</td>\n",
              "      <td>1</td>\n",
              "      <td>13.9</td>\n",
              "      <td>-26.7</td>\n",
              "    </tr>\n",
              "    <tr>\n",
              "      <th>2</th>\n",
              "      <td>3</td>\n",
              "      <td>1</td>\n",
              "      <td>13.3</td>\n",
              "      <td>-26.7</td>\n",
              "    </tr>\n",
              "    <tr>\n",
              "      <th>3</th>\n",
              "      <td>4</td>\n",
              "      <td>1</td>\n",
              "      <td>10.6</td>\n",
              "      <td>-26.1</td>\n",
              "    </tr>\n",
              "    <tr>\n",
              "      <th>4</th>\n",
              "      <td>5</td>\n",
              "      <td>1</td>\n",
              "      <td>12.8</td>\n",
              "      <td>-15.0</td>\n",
              "    </tr>\n",
              "  </tbody>\n",
              "</table>\n",
              "</div>"
            ],
            "text/plain": [
              "   Day  Month  TMAX  TMIN\n",
              "0    1      1  15.6 -16.0\n",
              "1    2      1  13.9 -26.7\n",
              "2    3      1  13.3 -26.7\n",
              "3    4      1  10.6 -26.1\n",
              "4    5      1  12.8 -15.0"
            ]
          },
          "execution_count": 41,
          "metadata": {},
          "output_type": "execute_result"
        }
      ],
      "source": [
        "#Now I will reset the indexes\n",
        "records_05_14 = records_05_14.reset_index(level=0)\n",
        "records_05_14.head()"
      ]
    },
    {
      "cell_type": "code",
      "execution_count": null,
      "metadata": {
        "id": "IoKV3VCGZTtm",
        "outputId": "5e0a7e2a-c683-4cce-c3f6-db8900565d6e"
      },
      "outputs": [
        {
          "name": "stdout",
          "output_type": "stream",
          "text": [
            "<class 'pandas.core.frame.DataFrame'>\n",
            "RangeIndex: 365 entries, 0 to 364\n",
            "Data columns (total 4 columns):\n",
            " #   Column  Non-Null Count  Dtype  \n",
            "---  ------  --------------  -----  \n",
            " 0   Day     365 non-null    int64  \n",
            " 1   Month   365 non-null    int64  \n",
            " 2   TMAX    365 non-null    float64\n",
            " 3   TMIN    365 non-null    float64\n",
            "dtypes: float64(2), int64(2)\n",
            "memory usage: 11.5 KB\n"
          ]
        }
      ],
      "source": [
        "records_05_14.info()"
      ]
    },
    {
      "cell_type": "code",
      "execution_count": null,
      "metadata": {
        "id": "1MbzDF4wZTtn",
        "outputId": "e8f4a89b-470f-4bc8-ff5b-6f2c41c819ed"
      },
      "outputs": [
        {
          "data": {
            "text/html": [
              "<div>\n",
              "<style scoped>\n",
              "    .dataframe tbody tr th:only-of-type {\n",
              "        vertical-align: middle;\n",
              "    }\n",
              "\n",
              "    .dataframe tbody tr th {\n",
              "        vertical-align: top;\n",
              "    }\n",
              "\n",
              "    .dataframe thead th {\n",
              "        text-align: right;\n",
              "    }\n",
              "</style>\n",
              "<table border=\"1\" class=\"dataframe\">\n",
              "  <thead>\n",
              "    <tr style=\"text-align: right;\">\n",
              "      <th></th>\n",
              "      <th>Day</th>\n",
              "      <th>Month</th>\n",
              "      <th>TMAX</th>\n",
              "      <th>TMIN</th>\n",
              "    </tr>\n",
              "  </thead>\n",
              "  <tbody>\n",
              "    <tr>\n",
              "      <th>0</th>\n",
              "      <td>1</td>\n",
              "      <td>1</td>\n",
              "      <td>1.1</td>\n",
              "      <td>-13.3</td>\n",
              "    </tr>\n",
              "    <tr>\n",
              "      <th>1</th>\n",
              "      <td>2</td>\n",
              "      <td>1</td>\n",
              "      <td>3.9</td>\n",
              "      <td>-12.2</td>\n",
              "    </tr>\n",
              "    <tr>\n",
              "      <th>2</th>\n",
              "      <td>3</td>\n",
              "      <td>1</td>\n",
              "      <td>3.9</td>\n",
              "      <td>-6.7</td>\n",
              "    </tr>\n",
              "    <tr>\n",
              "      <th>3</th>\n",
              "      <td>4</td>\n",
              "      <td>1</td>\n",
              "      <td>4.4</td>\n",
              "      <td>-8.8</td>\n",
              "    </tr>\n",
              "    <tr>\n",
              "      <th>4</th>\n",
              "      <td>5</td>\n",
              "      <td>1</td>\n",
              "      <td>2.8</td>\n",
              "      <td>-15.5</td>\n",
              "    </tr>\n",
              "  </tbody>\n",
              "</table>\n",
              "</div>"
            ],
            "text/plain": [
              "   Day  Month  TMAX  TMIN\n",
              "0    1      1   1.1 -13.3\n",
              "1    2      1   3.9 -12.2\n",
              "2    3      1   3.9  -6.7\n",
              "3    4      1   4.4  -8.8\n",
              "4    5      1   2.8 -15.5"
            ]
          },
          "execution_count": 43,
          "metadata": {},
          "output_type": "execute_result"
        }
      ],
      "source": [
        "#Creating 2015 records dataframe\n",
        "records_15 = TMAX_TMIN[TMAX_TMIN['Year'] == 2015]\n",
        "\n",
        "#Returning the max and minimum temperatures for each day of the year\n",
        "records_15 = records_15.groupby(['Month','Day']).agg({'TMAX' : 'max', 'TMIN' : 'min'})\n",
        "\n",
        "#Reseting indexes\n",
        "records_15 = records_15.reset_index(level=0)\n",
        "records_15 = records_15.reset_index(level=0)\n",
        "\n",
        "records_15.head()"
      ]
    },
    {
      "cell_type": "code",
      "execution_count": null,
      "metadata": {
        "id": "9Bnkfm_2ZTtn",
        "outputId": "76bd4fc4-a193-4a19-ba20-4031f3f68d8e"
      },
      "outputs": [
        {
          "name": "stdout",
          "output_type": "stream",
          "text": [
            "<class 'pandas.core.frame.DataFrame'>\n",
            "RangeIndex: 365 entries, 0 to 364\n",
            "Data columns (total 4 columns):\n",
            " #   Column  Non-Null Count  Dtype  \n",
            "---  ------  --------------  -----  \n",
            " 0   Day     365 non-null    int64  \n",
            " 1   Month   365 non-null    int64  \n",
            " 2   TMAX    365 non-null    float64\n",
            " 3   TMIN    365 non-null    float64\n",
            "dtypes: float64(2), int64(2)\n",
            "memory usage: 11.5 KB\n"
          ]
        }
      ],
      "source": [
        "records_15.info()"
      ]
    },
    {
      "cell_type": "code",
      "execution_count": null,
      "metadata": {
        "id": "ox6vTbG9ZTtn",
        "outputId": "794ac9fa-d94f-4386-9355-ba6aed679acd"
      },
      "outputs": [
        {
          "data": {
            "text/html": [
              "<div>\n",
              "<style scoped>\n",
              "    .dataframe tbody tr th:only-of-type {\n",
              "        vertical-align: middle;\n",
              "    }\n",
              "\n",
              "    .dataframe tbody tr th {\n",
              "        vertical-align: top;\n",
              "    }\n",
              "\n",
              "    .dataframe thead th {\n",
              "        text-align: right;\n",
              "    }\n",
              "</style>\n",
              "<table border=\"1\" class=\"dataframe\">\n",
              "  <thead>\n",
              "    <tr style=\"text-align: right;\">\n",
              "      <th></th>\n",
              "      <th>Day_x</th>\n",
              "      <th>Month_x</th>\n",
              "      <th>TMAX_x</th>\n",
              "      <th>TMIN_x</th>\n",
              "      <th>Day_y</th>\n",
              "      <th>Month_y</th>\n",
              "      <th>TMAX_y</th>\n",
              "      <th>TMIN_y</th>\n",
              "    </tr>\n",
              "  </thead>\n",
              "  <tbody>\n",
              "    <tr>\n",
              "      <th>0</th>\n",
              "      <td>1</td>\n",
              "      <td>1</td>\n",
              "      <td>15.6</td>\n",
              "      <td>-16.0</td>\n",
              "      <td>1</td>\n",
              "      <td>1</td>\n",
              "      <td>1.1</td>\n",
              "      <td>-13.3</td>\n",
              "    </tr>\n",
              "    <tr>\n",
              "      <th>1</th>\n",
              "      <td>2</td>\n",
              "      <td>1</td>\n",
              "      <td>13.9</td>\n",
              "      <td>-26.7</td>\n",
              "      <td>2</td>\n",
              "      <td>1</td>\n",
              "      <td>3.9</td>\n",
              "      <td>-12.2</td>\n",
              "    </tr>\n",
              "    <tr>\n",
              "      <th>2</th>\n",
              "      <td>3</td>\n",
              "      <td>1</td>\n",
              "      <td>13.3</td>\n",
              "      <td>-26.7</td>\n",
              "      <td>3</td>\n",
              "      <td>1</td>\n",
              "      <td>3.9</td>\n",
              "      <td>-6.7</td>\n",
              "    </tr>\n",
              "    <tr>\n",
              "      <th>3</th>\n",
              "      <td>4</td>\n",
              "      <td>1</td>\n",
              "      <td>10.6</td>\n",
              "      <td>-26.1</td>\n",
              "      <td>4</td>\n",
              "      <td>1</td>\n",
              "      <td>4.4</td>\n",
              "      <td>-8.8</td>\n",
              "    </tr>\n",
              "    <tr>\n",
              "      <th>4</th>\n",
              "      <td>5</td>\n",
              "      <td>1</td>\n",
              "      <td>12.8</td>\n",
              "      <td>-15.0</td>\n",
              "      <td>5</td>\n",
              "      <td>1</td>\n",
              "      <td>2.8</td>\n",
              "      <td>-15.5</td>\n",
              "    </tr>\n",
              "  </tbody>\n",
              "</table>\n",
              "</div>"
            ],
            "text/plain": [
              "   Day_x  Month_x  TMAX_x  TMIN_x  Day_y  Month_y  TMAX_y  TMIN_y\n",
              "0      1        1    15.6   -16.0      1        1     1.1   -13.3\n",
              "1      2        1    13.9   -26.7      2        1     3.9   -12.2\n",
              "2      3        1    13.3   -26.7      3        1     3.9    -6.7\n",
              "3      4        1    10.6   -26.1      4        1     4.4    -8.8\n",
              "4      5        1    12.8   -15.0      5        1     2.8   -15.5"
            ]
          },
          "execution_count": 45,
          "metadata": {},
          "output_type": "execute_result"
        }
      ],
      "source": [
        "#mergin both dataframes\n",
        "final_df = pd.merge(records_05_14, records_15, how = 'outer', left_index = True, right_index = True)\n",
        "final_df.head()"
      ]
    },
    {
      "cell_type": "code",
      "execution_count": null,
      "metadata": {
        "id": "RfIS_w47ZTtn",
        "outputId": "86890b46-2646-4320-b1a5-611aa466c3ca"
      },
      "outputs": [
        {
          "data": {
            "text/html": [
              "<div>\n",
              "<style scoped>\n",
              "    .dataframe tbody tr th:only-of-type {\n",
              "        vertical-align: middle;\n",
              "    }\n",
              "\n",
              "    .dataframe tbody tr th {\n",
              "        vertical-align: top;\n",
              "    }\n",
              "\n",
              "    .dataframe thead th {\n",
              "        text-align: right;\n",
              "    }\n",
              "</style>\n",
              "<table border=\"1\" class=\"dataframe\">\n",
              "  <thead>\n",
              "    <tr style=\"text-align: right;\">\n",
              "      <th></th>\n",
              "      <th>Day</th>\n",
              "      <th>Month</th>\n",
              "      <th>TMAX_05_14</th>\n",
              "      <th>TMIN_05_14</th>\n",
              "      <th>TMAX_15</th>\n",
              "      <th>TMIN_15</th>\n",
              "    </tr>\n",
              "  </thead>\n",
              "  <tbody>\n",
              "    <tr>\n",
              "      <th>0</th>\n",
              "      <td>1</td>\n",
              "      <td>1</td>\n",
              "      <td>15.6</td>\n",
              "      <td>-16.0</td>\n",
              "      <td>1.1</td>\n",
              "      <td>-13.3</td>\n",
              "    </tr>\n",
              "    <tr>\n",
              "      <th>1</th>\n",
              "      <td>2</td>\n",
              "      <td>1</td>\n",
              "      <td>13.9</td>\n",
              "      <td>-26.7</td>\n",
              "      <td>3.9</td>\n",
              "      <td>-12.2</td>\n",
              "    </tr>\n",
              "    <tr>\n",
              "      <th>2</th>\n",
              "      <td>3</td>\n",
              "      <td>1</td>\n",
              "      <td>13.3</td>\n",
              "      <td>-26.7</td>\n",
              "      <td>3.9</td>\n",
              "      <td>-6.7</td>\n",
              "    </tr>\n",
              "    <tr>\n",
              "      <th>3</th>\n",
              "      <td>4</td>\n",
              "      <td>1</td>\n",
              "      <td>10.6</td>\n",
              "      <td>-26.1</td>\n",
              "      <td>4.4</td>\n",
              "      <td>-8.8</td>\n",
              "    </tr>\n",
              "    <tr>\n",
              "      <th>4</th>\n",
              "      <td>5</td>\n",
              "      <td>1</td>\n",
              "      <td>12.8</td>\n",
              "      <td>-15.0</td>\n",
              "      <td>2.8</td>\n",
              "      <td>-15.5</td>\n",
              "    </tr>\n",
              "  </tbody>\n",
              "</table>\n",
              "</div>"
            ],
            "text/plain": [
              "   Day  Month  TMAX_05_14  TMIN_05_14  TMAX_15  TMIN_15\n",
              "0    1      1        15.6       -16.0      1.1    -13.3\n",
              "1    2      1        13.9       -26.7      3.9    -12.2\n",
              "2    3      1        13.3       -26.7      3.9     -6.7\n",
              "3    4      1        10.6       -26.1      4.4     -8.8\n",
              "4    5      1        12.8       -15.0      2.8    -15.5"
            ]
          },
          "execution_count": 46,
          "metadata": {},
          "output_type": "execute_result"
        }
      ],
      "source": [
        "#Reorganizing the dataframe\n",
        "#Dropping unecessary columns\n",
        "final_df = final_df.drop(['Day_y','Month_y'], axis = 1)\n",
        "\n",
        "#Renaming the columns\n",
        "final_df.rename(columns = {\n",
        "    'Day_x':'Day',\n",
        "    'Month_x':'Month',\n",
        "    'TMAX_x':'TMAX_05_14',\n",
        "    'TMIN_x':'TMIN_05_14',\n",
        "    'TMAX_y':'TMAX_15',\n",
        "    'TMIN_y':'TMIN_15'}, inplace = True)\n",
        "\n",
        "final_df.head()"
      ]
    },
    {
      "cell_type": "code",
      "execution_count": null,
      "metadata": {
        "id": "KooLLS6mZTtn",
        "outputId": "99b4f3d5-ae2c-43df-e14f-f1f5fddff6b0"
      },
      "outputs": [
        {
          "name": "stdout",
          "output_type": "stream",
          "text": [
            "<class 'pandas.core.frame.DataFrame'>\n",
            "RangeIndex: 365 entries, 0 to 364\n",
            "Data columns (total 6 columns):\n",
            " #   Column      Non-Null Count  Dtype  \n",
            "---  ------      --------------  -----  \n",
            " 0   Day         365 non-null    int64  \n",
            " 1   Month       365 non-null    int64  \n",
            " 2   TMAX_05_14  365 non-null    float64\n",
            " 3   TMIN_05_14  365 non-null    float64\n",
            " 4   TMAX_15     365 non-null    float64\n",
            " 5   TMIN_15     365 non-null    float64\n",
            "dtypes: float64(4), int64(2)\n",
            "memory usage: 17.2 KB\n"
          ]
        }
      ],
      "source": [
        "final_df.info()"
      ]
    },
    {
      "cell_type": "markdown",
      "metadata": {
        "deletable": false,
        "editable": false,
        "nbgrader": {
          "cell_type": "markdown",
          "checksum": "d7de066a05b833f7ded9353ee2215ba8",
          "grade": false,
          "grade_id": "cell-25711f5fdbe49515",
          "locked": true,
          "schema_version": 3,
          "solution": false,
          "task": false
        },
        "id": "bgJ6RdAGZTtn"
      },
      "source": [
        "## Step 4\n",
        "Now it's time to plot! You need to explore matplotlib in order to plot line graphs of the min and max temperatures for the years 2005 through 2014 and to scatter plot __only__ the daily 2015 temperatures that exceeded those values."
      ]
    },
    {
      "cell_type": "code",
      "execution_count": null,
      "metadata": {
        "id": "gj3g_u_0ZTtn"
      },
      "outputs": [],
      "source": [
        "%matplotlib inline"
      ]
    },
    {
      "cell_type": "code",
      "execution_count": null,
      "metadata": {
        "deletable": false,
        "editable": false,
        "nbgrader": {
          "cell_type": "code",
          "checksum": "bdd730cfdb7b4217ad63aab3e39cfa8d",
          "grade": false,
          "grade_id": "cell-81b828b59fd3e66c",
          "locked": true,
          "schema_version": 3,
          "solution": false,
          "task": false
        },
        "id": "GRrbcKBlZTtn"
      },
      "outputs": [],
      "source": [
        "import matplotlib.pyplot as plt\n",
        "from calendar import month_abbr\n",
        "\n",
        "# put your plotting code here!"
      ]
    },
    {
      "cell_type": "code",
      "execution_count": null,
      "metadata": {
        "id": "0xsQCmCIZTtn",
        "outputId": "8817e231-5d3b-4a5f-c801-55257a93f572"
      },
      "outputs": [
        {
          "data": {
            "image/png": "[encoded data removed]",
            "text/plain": [
              "<Figure size 1152x864 with 1 Axes>"
            ]
          },
          "metadata": {
            "needs_background": "light"
          },
          "output_type": "display_data"
        }
      ],
      "source": [
        "plt.figure(figsize=(16,12))\n",
        "plt.plot(np.arange(len(final_df.TMAX_05_14)),final_df.TMAX_05_14, '-k', label=\"Record High\")\n",
        "plt.plot(np.arange(len(final_df.TMAX_05_14)),final_df.TMIN_05_14, '-k',label=\"Record Low\")\n",
        "plt.scatter(np.where(final_df.TMIN_15 < final_df.TMIN_05_14.values),  final_df.TMIN_15[final_df.TMIN_15 < final_df.TMIN_05_14].values,c='b',label='2015 Break Low')\n",
        "plt.scatter(np.where(final_df.TMAX_15 > final_df.TMAX_05_14.values),  final_df.TMAX_15[final_df.TMAX_15 > final_df.TMAX_05_14].values,c='r',label='2015 Break High')\n",
        "plt.xlabel('Month',size=14) \n",
        "plt.ylabel('Temperature($^\\circ C$ )',size=14)\n",
        "tick = [0,31,59,90,120,151,181,212,243,273,304,334]\n",
        "plt.xticks(tick, ['Jan','Feb', 'Mar','Apr','May','Jun','Jul','Aug','Sep','Oct','Nov','Dec']) \n",
        "ax=plt.gca() \n",
        "ax.axis([-1,365,-60,60]) \n",
        "plt.gca().fill_between(np.arange(0,365),final_df.TMIN_05_14, final_df.TMAX_05_14, facecolor='gray',alpha=0.25) \n",
        "plt.title('MinMAx Temperatures between 2005-2014 vs. 2015 Break Points',size=14) \n",
        "plt.grid()\n",
        "plt.legend(loc=0, frameon=False);\n",
        "\n",
        "plt.gca().spines['bottom'].set_color('black')\n",
        "plt.gca().spines['left'].set_color('black')\n",
        "plt.gca().spines['top'].set_visible(False)\n",
        "plt.gca().spines['right'].set_visible(False)\n",
        "plt.gca().grid(False)\n",
        "\n",
        "plt.savefig('assignment2.png')"
      ]
    }
  ],
  "metadata": {
    "coursera": {
      "schema_names": [
        "mooc_adswpy_v1_assignment2"
      ]
    },
    "etc_active_cell": 53,
    "kernelspec": {
      "display_name": "Python 3 (ipykernel)",
      "language": "python",
      "name": "python3"
    },
    "language_info": {
      "codemirror_mode": {
        "name": "ipython",
        "version": 3
      },
      "file_extension": ".py",
      "mimetype": "text/x-python",
      "name": "python",
      "nbconvert_exporter": "python",
      "pygments_lexer": "ipython3",
      "version": "3.8.10"
    },
    "colab": {
      "provenance": [],
      "include_colab_link": true
    }
  },
  "nbformat": 4,
  "nbformat_minor": 0
}